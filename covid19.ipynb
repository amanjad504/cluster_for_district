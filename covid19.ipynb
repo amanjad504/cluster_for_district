{
 "cells": [
  {
   "cell_type": "code",
   "execution_count": 1,
   "metadata": {},
   "outputs": [],
   "source": [
    "import pandas as pd\n",
    "import numpy as np\n",
    "import matplotlib.pyplot as plt\n",
    "import seaborn as sns\n",
    "%matplotlib inline"
   ]
  },
  {
   "cell_type": "code",
   "execution_count": 2,
   "metadata": {},
   "outputs": [],
   "source": [
    "df = pd.read_excel('Daily_COVID_Data_District_Level.xlsx')"
   ]
  },
  {
   "cell_type": "code",
   "execution_count": 3,
   "metadata": {},
   "outputs": [
    {
     "data": {
      "text/html": [
       "<div>\n",
       "<style scoped>\n",
       "    .dataframe tbody tr th:only-of-type {\n",
       "        vertical-align: middle;\n",
       "    }\n",
       "\n",
       "    .dataframe tbody tr th {\n",
       "        vertical-align: top;\n",
       "    }\n",
       "\n",
       "    .dataframe thead th {\n",
       "        text-align: right;\n",
       "    }\n",
       "</style>\n",
       "<table border=\"1\" class=\"dataframe\">\n",
       "  <thead>\n",
       "    <tr style=\"text-align: right;\">\n",
       "      <th></th>\n",
       "      <th>Date_Announced</th>\n",
       "      <th>Detected_State</th>\n",
       "      <th>Detected_District</th>\n",
       "      <th>Total</th>\n",
       "      <th>Active</th>\n",
       "      <th>Recovered</th>\n",
       "      <th>Deceased</th>\n",
       "      <th>Migrated</th>\n",
       "    </tr>\n",
       "  </thead>\n",
       "  <tbody>\n",
       "    <tr>\n",
       "      <td>0</td>\n",
       "      <td>27-03-2020</td>\n",
       "      <td>Andaman and Nicobar Islands</td>\n",
       "      <td>North and Middle Andaman</td>\n",
       "      <td>1</td>\n",
       "      <td>0</td>\n",
       "      <td>1</td>\n",
       "      <td>0</td>\n",
       "      <td>0</td>\n",
       "    </tr>\n",
       "    <tr>\n",
       "      <td>1</td>\n",
       "      <td>02-05-2020</td>\n",
       "      <td>Andaman and Nicobar Islands</td>\n",
       "      <td>South Andaman</td>\n",
       "      <td>0</td>\n",
       "      <td>-10</td>\n",
       "      <td>10</td>\n",
       "      <td>0</td>\n",
       "      <td>0</td>\n",
       "    </tr>\n",
       "    <tr>\n",
       "      <td>2</td>\n",
       "      <td>03-05-2020</td>\n",
       "      <td>Andaman and Nicobar Islands</td>\n",
       "      <td>South Andaman</td>\n",
       "      <td>0</td>\n",
       "      <td>-6</td>\n",
       "      <td>6</td>\n",
       "      <td>0</td>\n",
       "      <td>0</td>\n",
       "    </tr>\n",
       "    <tr>\n",
       "      <td>3</td>\n",
       "      <td>07-05-2020</td>\n",
       "      <td>Andaman and Nicobar Islands</td>\n",
       "      <td>South Andaman</td>\n",
       "      <td>0</td>\n",
       "      <td>-1</td>\n",
       "      <td>1</td>\n",
       "      <td>0</td>\n",
       "      <td>0</td>\n",
       "    </tr>\n",
       "    <tr>\n",
       "      <td>4</td>\n",
       "      <td>08-04-2020</td>\n",
       "      <td>Andaman and Nicobar Islands</td>\n",
       "      <td>South Andaman</td>\n",
       "      <td>1</td>\n",
       "      <td>0</td>\n",
       "      <td>1</td>\n",
       "      <td>0</td>\n",
       "      <td>0</td>\n",
       "    </tr>\n",
       "  </tbody>\n",
       "</table>\n",
       "</div>"
      ],
      "text/plain": [
       "  Date_Announced               Detected_State         Detected_District  \\\n",
       "0     27-03-2020  Andaman and Nicobar Islands  North and Middle Andaman   \n",
       "1     02-05-2020  Andaman and Nicobar Islands             South Andaman   \n",
       "2     03-05-2020  Andaman and Nicobar Islands             South Andaman   \n",
       "3     07-05-2020  Andaman and Nicobar Islands             South Andaman   \n",
       "4     08-04-2020  Andaman and Nicobar Islands             South Andaman   \n",
       "\n",
       "   Total  Active  Recovered  Deceased  Migrated  \n",
       "0      1       0          1         0         0  \n",
       "1      0     -10         10         0         0  \n",
       "2      0      -6          6         0         0  \n",
       "3      0      -1          1         0         0  \n",
       "4      1       0          1         0         0  "
      ]
     },
     "execution_count": 3,
     "metadata": {},
     "output_type": "execute_result"
    }
   ],
   "source": [
    "df.head()"
   ]
  },
  {
   "cell_type": "code",
   "execution_count": 4,
   "metadata": {},
   "outputs": [
    {
     "name": "stdout",
     "output_type": "stream",
     "text": [
      "<class 'pandas.core.frame.DataFrame'>\n",
      "RangeIndex: 66670 entries, 0 to 66669\n",
      "Data columns (total 8 columns):\n",
      "Date_Announced       66670 non-null object\n",
      "Detected_State       66668 non-null object\n",
      "Detected_District    66670 non-null object\n",
      "Total                66670 non-null int64\n",
      "Active               66670 non-null int64\n",
      "Recovered            66670 non-null int64\n",
      "Deceased             66670 non-null int64\n",
      "Migrated             66670 non-null int64\n",
      "dtypes: int64(5), object(3)\n",
      "memory usage: 4.1+ MB\n"
     ]
    }
   ],
   "source": [
    "df.info()"
   ]
  },
  {
   "cell_type": "code",
   "execution_count": 5,
   "metadata": {},
   "outputs": [
    {
     "data": {
      "text/plain": [
       "66670"
      ]
     },
     "execution_count": 5,
     "metadata": {},
     "output_type": "execute_result"
    }
   ],
   "source": [
    "l=len(df['Detected_District'])\n",
    "l"
   ]
  },
  {
   "cell_type": "code",
   "execution_count": 6,
   "metadata": {},
   "outputs": [],
   "source": [
    "def update_dist(Detected_District):\n",
    "    return Detected_District.upper()\n",
    "df['Detected_District']=df['Detected_District'].apply(update_dist)"
   ]
  },
  {
   "cell_type": "code",
   "execution_count": 7,
   "metadata": {},
   "outputs": [],
   "source": [
    "#for i in range(l):\n",
    "    #df['Detected_District'][i]=df['Detected_District'][i].upper()\n",
    "#df['Detected_District']\n",
    "    "
   ]
  },
  {
   "cell_type": "code",
   "execution_count": 8,
   "metadata": {},
   "outputs": [
    {
     "data": {
      "text/plain": [
       "734"
      ]
     },
     "execution_count": 8,
     "metadata": {},
     "output_type": "execute_result"
    }
   ],
   "source": [
    "len(df['Detected_District'].unique())"
   ]
  },
  {
   "cell_type": "code",
   "execution_count": 9,
   "metadata": {},
   "outputs": [
    {
     "data": {
      "text/plain": [
       "array(['NORTH AND MIDDLE ANDAMAN', 'SOUTH ANDAMAN', 'ANANTAPUR',\n",
       "       'CHITTOOR', 'EAST GODAVARI', 'FOREIGN EVACUEES', 'GUNTUR',\n",
       "       'KRISHNA', 'KURNOOL', 'OTHER STATE', 'PRAKASAM', 'S.P.S. NELLORE',\n",
       "       'SRIKAKULAM', 'VISAKHAPATNAM', 'VIZIANAGARAM', 'WEST GODAVARI',\n",
       "       'Y.S.R. KADAPA', 'ANJAW', 'CHANGLANG', 'EAST KAMENG', 'EAST SIANG',\n",
       "       'KAMLE', 'KRA DAADI', 'LEPA RADA', 'LOHIT', 'LONGDING',\n",
       "       'LOWER DIBANG VALLEY', 'LOWER SIANG', 'LOWER SUBANSIRI', 'NAMSAI',\n",
       "       'PAKKE KESSANG', 'PAPUM PARE', 'SHI YOMI', 'SIANG', 'TAWANG',\n",
       "       'TIRAP', 'UPPER DIBANG VALLEY', 'UPPER SIANG', 'UPPER SUBANSIRI',\n",
       "       'WEST KAMENG', 'WEST SIANG', 'AIRPORT QUARANTINE', 'BAKSA',\n",
       "       'BARPETA', 'BISWANATH', 'BONGAIGAON', 'CACHAR', 'CHARAIDEO',\n",
       "       'CHIRANG', 'DARRANG', 'DHEMAJI', 'DHUBRI', 'DIBRUGARH',\n",
       "       'DIMA HASAO', 'GOALPARA', 'GOLAGHAT', 'HAILAKANDI', 'HOJAI',\n",
       "       'JORHAT', 'KAMRUP', 'KAMRUP METROPOLITAN', 'KARBI ANGLONG',\n",
       "       'KARIMGANJ', 'KISHANGANJ', 'KOKRAJHAR', 'LAKHIMPUR', 'MAJULI',\n",
       "       'MORIGAON', 'NAGAON', 'NALBARI', 'SIVASAGAR', 'SONITPUR',\n",
       "       'SOUTH SALMARA MANKACHAR', 'TINSUKIA', 'UDALGURI',\n",
       "       'WEST KARBI ANGLONG', 'ARARIA', 'ARWAL', 'AURANGABAD', 'BANKA',\n",
       "       'BEGUSARAI', 'BHAGALPUR', 'BHOJPUR', 'BUXAR', 'DARBHANGA',\n",
       "       'EAST CHAMPARAN', 'GAYA', 'GOPALGANJ', 'JAMUI', 'JEHANABAD',\n",
       "       'KAIMUR', 'KATIHAR', 'KHAGARIA', 'LAKHISARAI', 'MADHEPURA',\n",
       "       'MADHUBANI', 'MUNGER', 'MUZAFFARPUR', 'NALANDA', 'NAWADA', 'PATNA',\n",
       "       'PURNIA', 'ROHTAS', 'SAHARSA', 'SAMASTIPUR', 'SARAN', 'SHEIKHPURA',\n",
       "       'SHEOHAR', 'SITAMARHI', 'SIWAN', 'SUPAUL', 'VAISHALI',\n",
       "       'WEST CHAMPARAN', 'CHANDIGARH', 'BALOD', 'BALODA BAZAR',\n",
       "       'BALRAMPUR', 'BAMETARA', 'BASTAR', 'BIJAPUR', 'BILASPUR',\n",
       "       'DAKSHIN BASTAR DANTEWADA', 'DHAMTARI', 'DURG', 'GARIABAND',\n",
       "       'GAURELA PENDRA MARWAHI', 'JANJGIR CHAMPA', 'JASHPUR',\n",
       "       'KABEERDHAM', 'KONDAGAON', 'KORBA', 'KORIYA', 'MAHASAMUND',\n",
       "       'MUNGELI', 'NARAYANPUR', 'RAIGARH', 'RAIPUR', 'RAJNANDGAON',\n",
       "       'SUKMA', 'SURAJPUR', 'SURGUJA', 'UNKNOWN', 'UTTAR BASTAR KANKER',\n",
       "       'DADRA AND NAGAR HAVELI', 'DAMAN', 'DIU', 'EAST DELHI',\n",
       "       'NEW DELHI', 'NORTH DELHI', 'NORTH EAST DELHI', 'NORTH WEST DELHI',\n",
       "       'SOUTH DELHI', 'SOUTH WEST DELHI', 'WEST DELHI', 'NORTH GOA',\n",
       "       'SOUTH GOA', 'AHMEDABAD', 'AMRELI', 'ANAND', 'ARAVALLI',\n",
       "       'BANASKANTHA', 'BHARUCH', 'BHAVNAGAR', 'BOTAD', 'CHHOTA UDAIPUR',\n",
       "       'DAHOD', 'DANG', 'DEVBHUMI DWARKA', 'GANDHINAGAR', 'GIR SOMNATH',\n",
       "       'JAMNAGAR', 'JUNAGADH', 'KHEDA', 'KUTCH', 'MAHISAGAR', 'MEHSANA',\n",
       "       'MORBI', 'NARMADA', 'NAVSARI', 'PANCHMAHAL', 'PATAN', 'PORBANDAR',\n",
       "       'RAJKOT', 'SABARKANTHA', 'SURAT', 'SURENDRANAGAR', 'TAPI',\n",
       "       'VADODARA', 'VALSAD', 'AMBALA', 'BHIWANI', 'CHARKHI DADRI',\n",
       "       'FARIDABAD', 'FATEHABAD', 'GURUGRAM', 'HISAR', 'ITALIANS',\n",
       "       'JHAJJAR', 'JIND', 'KAITHAL', 'KARNAL', 'KURUKSHETRA',\n",
       "       'MAHENDRAGARH', 'NUH', 'PALWAL', 'PANCHKULA', 'PANIPAT', 'REWARI',\n",
       "       'ROHTAK', 'SIRSA', 'SONIPAT', 'YAMUNANAGAR', 'CHAMBA', 'HAMIRPUR',\n",
       "       'KANGRA', 'KINNAUR', 'KULLU', 'LAHAUL AND SPITI', 'MANDI',\n",
       "       'SHIMLA', 'SIRMAUR', 'SOLAN', 'UNA', 'ANANTNAG', 'BANDIPORA',\n",
       "       'BARAMULLA', 'BUDGAM', 'DODA', 'GANDERBAL', 'JAMMU', 'KATHUA',\n",
       "       'KISHTWAR', 'KULGAM', 'KUPWARA', 'PULWAMA', 'PUNCH', 'RAJOURI',\n",
       "       'RAMBAN', 'REASI', 'SAMBA', 'SHOPIYAN', 'SRINAGAR', 'UDHAMPUR',\n",
       "       'BOKARO', 'CHATRA', 'DEOGHAR', 'DHANBAD', 'DUMKA',\n",
       "       'EAST SINGHBHUM', 'GARHWA', 'GIRIDIH', 'GODDA', 'GUMLA',\n",
       "       'HAZARIBAGH', 'JAMTARA', 'KHUNTI', 'KODERMA', 'LATEHAR',\n",
       "       'LOHARDAGA', 'PAKUR', 'PALAMU', 'RAMGARH', 'RANCHI', 'SAHIBGANJ',\n",
       "       'SARAIKELA-KHARSAWAN', 'SIMDEGA', 'WEST SINGHBHUM', 'BAGALKOTE',\n",
       "       'BALLARI', 'BELAGAVI', 'BENGALURU RURAL', 'BENGALURU URBAN',\n",
       "       'BIDAR', 'CHAMARAJANAGARA', 'CHIKKABALLAPURA', 'CHIKKAMAGALURU',\n",
       "       'CHITRADURGA', 'DAKSHINA KANNADA', 'DAVANAGERE', 'DHARWAD',\n",
       "       'GADAG', 'HASSAN', 'HAVERI', 'KALABURAGI', 'KODAGU', 'KOLAR',\n",
       "       'KOPPAL', 'MANDYA', 'MYSURU', 'RAICHUR', 'RAMANAGARA',\n",
       "       'SHIVAMOGGA', 'TUMAKURU', 'UDUPI', 'UTTARA KANNADA', 'VIJAYAPURA',\n",
       "       'YADGIR', 'ALAPPUZHA', 'ERNAKULAM', 'IDUKKI', 'KANNUR',\n",
       "       'KASARAGOD', 'KOLLAM', 'KOTTAYAM', 'KOZHIKODE', 'MALAPPURAM',\n",
       "       'PALAKKAD', 'PATHANAMTHITTA', 'THIRUVANANTHAPURAM', 'THRISSUR',\n",
       "       'WAYANAD', 'KARGIL', 'LEH', 'AGAR MALWA', 'ALIRAJPUR', 'ANUPPUR',\n",
       "       'ASHOKNAGAR', 'BALAGHAT', 'BARWANI', 'BETUL', 'BHIND', 'BHOPAL',\n",
       "       'BURHANPUR', 'CHHATARPUR', 'CHHINDWARA', 'DAMOH', 'DATIA', 'DEWAS',\n",
       "       'DHAR', 'DINDORI', 'GUNA', 'GWALIOR', 'HARDA', 'HOSHANGABAD',\n",
       "       'INDORE', 'JABALPUR', 'JHABUA', 'KATNI', 'KHANDWA', 'KHARGONE',\n",
       "       'MANDLA', 'MANDSAUR', 'MORENA', 'NARSINGHPUR', 'NEEMUCH', 'NIWARI',\n",
       "       'OTHER REGION', 'PANNA', 'RAISEN', 'RAJGARH', 'RATLAM', 'REWA',\n",
       "       'SAGAR', 'SATNA', 'SEHORE', 'SEONI', 'SHAHDOL', 'SHAJAPUR',\n",
       "       'SHEOPUR', 'SHIVPURI', 'SIDHI', 'SINGRAULI', 'TIKAMGARH', 'UJJAIN',\n",
       "       'UMARIA', 'VIDISHA', 'AHMEDNAGAR', 'AKOLA', 'AMRAVATI', 'BEED',\n",
       "       'BHANDARA', 'BULDHANA', 'CHANDRAPUR', 'DHULE', 'GADCHIROLI',\n",
       "       'GONDIA', 'HINGOLI', 'JALGAON', 'JALNA', 'KOLHAPUR', 'LATUR',\n",
       "       'MUMBAI', 'NAGPUR', 'NANDED', 'NANDURBAR', 'NASHIK', 'OSMANABAD',\n",
       "       'PALGHAR', 'PARBHANI', 'PUNE', 'RAIGAD', 'RATNAGIRI', 'SANGLI',\n",
       "       'SATARA', 'SINDHUDURG', 'SOLAPUR', 'THANE', 'WARDHA', 'WASHIM',\n",
       "       'YAVATMAL', 'BISHNUPUR', 'CAPF PERSONNEL', 'CHANDEL',\n",
       "       'CHURACHANDPUR', 'IMPHAL EAST', 'IMPHAL WEST', 'JIRIBAM',\n",
       "       'KAKCHING', 'KAMJONG', 'KANGPOKPI', 'NONEY', 'PHERZAWL',\n",
       "       'SENAPATI', 'TAMENGLONG', 'TENGNOUPAL', 'THOUBAL', 'UKHRUL',\n",
       "       'EAST GARO HILLS', 'EAST JAINTIA HILLS', 'EAST KHASI HILLS',\n",
       "       'NORTH GARO HILLS', 'RIBHOI', 'SOUTH GARO HILLS',\n",
       "       'SOUTH WEST GARO HILLS', 'SOUTH WEST KHASI HILLS',\n",
       "       'WEST GARO HILLS', 'WEST JAINTIA HILLS', 'WEST KHASI HILLS',\n",
       "       'AIZAWL', 'CHAMPHAI', 'HNAHTHIAL', 'KHAWZAWL', 'KOLASIB',\n",
       "       'LAWNGTLAI', 'LUNGLEI', 'MAMIT', 'SAIHA', 'SAITUAL', 'SERCHHIP',\n",
       "       'DIMAPUR', 'KIPHIRE', 'KOHIMA', 'LONGLENG', 'MOKOKCHUNG', 'MON',\n",
       "       'OTHERS', 'PEREN', 'PHEK', 'TUENSANG', 'WOKHA', 'ZUNHEBOTO',\n",
       "       'ANGUL', 'BALANGIR', 'BALASORE', 'BARGARH', 'BHADRAK', 'BOUDH',\n",
       "       'CUTTACK', 'DEOGARH', 'DHENKANAL', 'GAJAPATI', 'GANJAM',\n",
       "       'JAGATSINGHPUR', 'JAJPUR', 'JHARSUGUDA', 'KALAHANDI', 'KANDHAMAL',\n",
       "       'KENDRAPARA', 'KENDUJHAR', 'KHORDHA', 'KORAPUT', 'MALKANGIRI',\n",
       "       'MAYURBHANJ', 'NABARANGAPUR', 'NAYAGARH', 'NUAPADA', 'PURI',\n",
       "       'RAYAGADA', 'SAMBALPUR', 'SUBARNAPUR', 'SUNDARGARH', 'KARAIKAL',\n",
       "       'MAHE', 'PUDUCHERRY', 'YANAM', 'AMRITSAR', 'BARNALA', 'BATHINDA',\n",
       "       'FARIDKOT', 'FATEHGARH SAHIB', 'FAZILKA', 'FEROZEPUR', 'GURDASPUR',\n",
       "       'HOSHIARPUR', 'JALANDHAR', 'KAPURTHALA', 'LUDHIANA', 'MANSA',\n",
       "       'MOGA', 'PATHANKOT', 'PATIALA', 'RUPNAGAR', 'S.A.S. NAGAR',\n",
       "       'SANGRUR', 'SHAHID BHAGAT SINGH NAGAR', 'SRI MUKTSAR SAHIB',\n",
       "       'TARN TARAN', 'AJMER', 'ALWAR', 'BANSWARA', 'BARAN', 'BARMER',\n",
       "       'BHARATPUR', 'BHILWARA', 'BIKANER', 'BSF CAMP', 'BUNDI',\n",
       "       'CHITTORGARH', 'CHURU', 'DAUSA', 'DHOLPUR', 'DUNGARPUR',\n",
       "       'EVACUEES', 'GANGANAGAR', 'HANUMANGARH', 'JAIPUR', 'JAISALMER',\n",
       "       'JALORE', 'JHALAWAR', 'JHUNJHUNU', 'JODHPUR', 'KARAULI', 'KOTA',\n",
       "       'NAGAUR', 'PALI', 'PRATAPGARH', 'RAJSAMAND', 'SAWAI MADHOPUR',\n",
       "       'SIKAR', 'SIROHI', 'TONK', 'UDAIPUR', 'EAST SIKKIM',\n",
       "       'NORTH SIKKIM', 'SOUTH SIKKIM', 'WEST SIKKIM', 'UNASSIGNED',\n",
       "       'ARIYALUR', 'CHENGALPATTU', 'CHENNAI', 'COIMBATORE', 'CUDDALORE',\n",
       "       'DHARMAPURI', 'DINDIGUL', 'ERODE', 'KALLAKURICHI', 'KANCHEEPURAM',\n",
       "       'KANYAKUMARI', 'KARUR', 'KRISHNAGIRI', 'MADURAI', 'NAGAPATTINAM',\n",
       "       'NAMAKKAL', 'NILGIRIS', 'PERAMBALUR', 'PUDUKKOTTAI',\n",
       "       'RAILWAY QUARANTINE', 'RAMANATHAPURAM', 'RANIPET', 'SALEM',\n",
       "       'SIVAGANGA', 'TENKASI', 'THANJAVUR', 'THENI', 'THIRUVALLUR',\n",
       "       'THIRUVARUR', 'THOOTHUKKUDI', 'TIRUCHIRAPPALLI', 'TIRUNELVELI',\n",
       "       'TIRUPATHUR', 'TIRUPPUR', 'TIRUVANNAMALAI', 'VELLORE',\n",
       "       'VILUPPURAM', 'VIRUDHUNAGAR', 'ADILABAD', 'BHADRADRI KOTHAGUDEM',\n",
       "       'HYDERABAD', 'JAGTIAL', 'JANGAON', 'JAYASHANKAR BHUPALAPALLY',\n",
       "       'JOGULAMBA GADWAL', 'KAMAREDDY', 'KARIMNAGAR', 'KHAMMAM',\n",
       "       'KOMARAM BHEEM', 'MAHABUBABAD', 'MAHABUBNAGAR', 'MANCHERIAL',\n",
       "       'MEDAK', 'MEDCHAL MALKAJGIRI', 'MULUGU', 'NAGARKURNOOL',\n",
       "       'NALGONDA', 'NARAYANPET', 'NIRMAL', 'NIZAMABAD', 'PEDDAPALLI',\n",
       "       'RAJANNA SIRCILLA', 'RANGA REDDY', 'SANGAREDDY', 'SIDDIPET',\n",
       "       'SURYAPET', 'VIKARABAD', 'WANAPARTHY', 'WARANGAL RURAL',\n",
       "       'WARANGAL URBAN', 'YADADRI BHUVANAGIRI', 'DHALAI', 'GOMATI',\n",
       "       'KHOWAI', 'NORTH TRIPURA', 'SIPAHIJALA', 'SOUTH TRIPURA',\n",
       "       'UNOKOTI', 'WEST TRIPURA', 'AGRA', 'ALIGARH', 'AMBEDKAR NAGAR',\n",
       "       'AMETHI', 'AMROHA', 'AURAIYA', 'AYODHYA', 'AZAMGARH', 'BAGHPAT',\n",
       "       'BAHRAICH', 'BALLIA', 'BANDA', 'BARABANKI', 'BAREILLY', 'BASTI',\n",
       "       'BHADOHI', 'BIJNOR', 'BUDAUN', 'BULANDSHAHR', 'CHANDAULI',\n",
       "       'CHITRAKOOT', 'DEORIA', 'ETAH', 'ETAWAH', 'FARRUKHABAD',\n",
       "       'FATEHPUR', 'FIROZABAD', 'GAUTAM BUDDHA NAGAR', 'GHAZIABAD',\n",
       "       'GHAZIPUR', 'GONDA', 'GORAKHPUR', 'HAPUR', 'HARDOI', 'HATHRAS',\n",
       "       'JALAUN', 'JAUNPUR', 'JHANSI', 'KANNAUJ', 'KANPUR DEHAT',\n",
       "       'KANPUR NAGAR', 'KASGANJ', 'KAUSHAMBI', 'KUSHINAGAR',\n",
       "       'LAKHIMPUR KHERI', 'LALITPUR', 'LUCKNOW', 'MAHARAJGANJ', 'MAHOBA',\n",
       "       'MAINPURI', 'MATHURA', 'MAU', 'MEERUT', 'MIRZAPUR', 'MORADABAD',\n",
       "       'MUZAFFARNAGAR', 'PILIBHIT', 'PRAYAGRAJ', 'RAE BARELI', 'RAMPUR',\n",
       "       'SAHARANPUR', 'SAMBHAL', 'SANT KABIR NAGAR', 'SHAHJAHANPUR',\n",
       "       'SHAMLI', 'SHRAWASTI', 'SIDDHARTHNAGAR', 'SITAPUR', 'SONBHADRA',\n",
       "       'SULTANPUR', 'UNNAO', 'VARANASI', 'ALMORA', 'BAGESHWAR', 'CHAMOLI',\n",
       "       'CHAMPAWAT', 'DEHRADUN', 'HARIDWAR', 'NAINITAL', 'PAURI GARHWAL',\n",
       "       'PITHORAGARH', 'RUDRAPRAYAG', 'TEHRI GARHWAL', 'UDHAM SINGH NAGAR',\n",
       "       'UTTARKASHI', 'ALIPURDUAR', 'BANKURA', 'BIRBHUM', 'COOCH BEHAR',\n",
       "       'DAKSHIN DINAJPUR', 'DARJEELING', 'HOOGHLY', 'HOWRAH',\n",
       "       'JALPAIGURI', 'JHARGRAM', 'KALIMPONG', 'KOLKATA', 'MALDA',\n",
       "       'MURSHIDABAD', 'NADIA', 'NORTH 24 PARGANAS', 'PASCHIM BARDHAMAN',\n",
       "       'PASCHIM MEDINIPUR', 'PURBA BARDHAMAN', 'PURBA MEDINIPUR',\n",
       "       'PURULIA', 'SOUTH 24 PARGANAS', 'UTTAR DINAJPUR'], dtype=object)"
      ]
     },
     "execution_count": 9,
     "metadata": {},
     "output_type": "execute_result"
    }
   ],
   "source": [
    "df['Detected_District'].unique()"
   ]
  },
  {
   "cell_type": "code",
   "execution_count": 10,
   "metadata": {},
   "outputs": [
    {
     "data": {
      "text/html": [
       "<div>\n",
       "<style scoped>\n",
       "    .dataframe tbody tr th:only-of-type {\n",
       "        vertical-align: middle;\n",
       "    }\n",
       "\n",
       "    .dataframe tbody tr th {\n",
       "        vertical-align: top;\n",
       "    }\n",
       "\n",
       "    .dataframe thead th {\n",
       "        text-align: right;\n",
       "    }\n",
       "</style>\n",
       "<table border=\"1\" class=\"dataframe\">\n",
       "  <thead>\n",
       "    <tr style=\"text-align: right;\">\n",
       "      <th></th>\n",
       "      <th>Detected_District</th>\n",
       "      <th>Total</th>\n",
       "      <th>Deceased</th>\n",
       "    </tr>\n",
       "  </thead>\n",
       "  <tbody>\n",
       "    <tr>\n",
       "      <td>0</td>\n",
       "      <td>NORTH AND MIDDLE ANDAMAN</td>\n",
       "      <td>1</td>\n",
       "      <td>0</td>\n",
       "    </tr>\n",
       "    <tr>\n",
       "      <td>1</td>\n",
       "      <td>SOUTH ANDAMAN</td>\n",
       "      <td>0</td>\n",
       "      <td>0</td>\n",
       "    </tr>\n",
       "    <tr>\n",
       "      <td>2</td>\n",
       "      <td>SOUTH ANDAMAN</td>\n",
       "      <td>0</td>\n",
       "      <td>0</td>\n",
       "    </tr>\n",
       "    <tr>\n",
       "      <td>3</td>\n",
       "      <td>SOUTH ANDAMAN</td>\n",
       "      <td>0</td>\n",
       "      <td>0</td>\n",
       "    </tr>\n",
       "    <tr>\n",
       "      <td>4</td>\n",
       "      <td>SOUTH ANDAMAN</td>\n",
       "      <td>1</td>\n",
       "      <td>0</td>\n",
       "    </tr>\n",
       "  </tbody>\n",
       "</table>\n",
       "</div>"
      ],
      "text/plain": [
       "          Detected_District  Total  Deceased\n",
       "0  NORTH AND MIDDLE ANDAMAN      1         0\n",
       "1             SOUTH ANDAMAN      0         0\n",
       "2             SOUTH ANDAMAN      0         0\n",
       "3             SOUTH ANDAMAN      0         0\n",
       "4             SOUTH ANDAMAN      1         0"
      ]
     },
     "execution_count": 10,
     "metadata": {},
     "output_type": "execute_result"
    }
   ],
   "source": [
    "df_new=df[['Detected_District','Total','Deceased']]\n",
    "df_new.head()"
   ]
  },
  {
   "cell_type": "code",
   "execution_count": 11,
   "metadata": {},
   "outputs": [],
   "source": [
    "#df.set_index['AMB',inplace=True]"
   ]
  },
  {
   "cell_type": "code",
   "execution_count": 12,
   "metadata": {},
   "outputs": [],
   "source": [
    "#df.reset_index[inplace=True]"
   ]
  },
  {
   "cell_type": "code",
   "execution_count": 13,
   "metadata": {},
   "outputs": [],
   "source": [
    "#def update_email(email):\n",
    "      #return email.upper()\n",
    "#d['email'].apply(update_email)"
   ]
  },
  {
   "cell_type": "code",
   "execution_count": 14,
   "metadata": {},
   "outputs": [
    {
     "name": "stderr",
     "output_type": "stream",
     "text": [
      "C:\\Users\\AMAN\\Anaconda3\\lib\\site-packages\\ipykernel_launcher.py:1: SettingWithCopyWarning: \n",
      "A value is trying to be set on a copy of a slice from a DataFrame\n",
      "\n",
      "See the caveats in the documentation: http://pandas.pydata.org/pandas-docs/stable/user_guide/indexing.html#returning-a-view-versus-a-copy\n",
      "  \"\"\"Entry point for launching an IPython kernel.\n"
     ]
    }
   ],
   "source": [
    "df_new.sort_values(by=['Detected_District','Total'],ascending=[True,False],inplace=True)\n"
   ]
  },
  {
   "cell_type": "code",
   "execution_count": 15,
   "metadata": {},
   "outputs": [
    {
     "data": {
      "text/html": [
       "<div>\n",
       "<style scoped>\n",
       "    .dataframe tbody tr th:only-of-type {\n",
       "        vertical-align: middle;\n",
       "    }\n",
       "\n",
       "    .dataframe tbody tr th {\n",
       "        vertical-align: top;\n",
       "    }\n",
       "\n",
       "    .dataframe thead th {\n",
       "        text-align: right;\n",
       "    }\n",
       "</style>\n",
       "<table border=\"1\" class=\"dataframe\">\n",
       "  <thead>\n",
       "    <tr style=\"text-align: right;\">\n",
       "      <th></th>\n",
       "      <th>Detected_District</th>\n",
       "      <th>Total</th>\n",
       "      <th>Deceased</th>\n",
       "    </tr>\n",
       "  </thead>\n",
       "  <tbody>\n",
       "    <tr>\n",
       "      <td>51481</td>\n",
       "      <td>ADILABAD</td>\n",
       "      <td>63</td>\n",
       "      <td>0</td>\n",
       "    </tr>\n",
       "    <tr>\n",
       "      <td>51529</td>\n",
       "      <td>ADILABAD</td>\n",
       "      <td>36</td>\n",
       "      <td>0</td>\n",
       "    </tr>\n",
       "    <tr>\n",
       "      <td>51518</td>\n",
       "      <td>ADILABAD</td>\n",
       "      <td>34</td>\n",
       "      <td>0</td>\n",
       "    </tr>\n",
       "    <tr>\n",
       "      <td>51522</td>\n",
       "      <td>ADILABAD</td>\n",
       "      <td>31</td>\n",
       "      <td>0</td>\n",
       "    </tr>\n",
       "    <tr>\n",
       "      <td>51527</td>\n",
       "      <td>ADILABAD</td>\n",
       "      <td>30</td>\n",
       "      <td>0</td>\n",
       "    </tr>\n",
       "    <tr>\n",
       "      <td>...</td>\n",
       "      <td>...</td>\n",
       "      <td>...</td>\n",
       "      <td>...</td>\n",
       "    </tr>\n",
       "    <tr>\n",
       "      <td>37409</td>\n",
       "      <td>ZUNHEBOTO</td>\n",
       "      <td>0</td>\n",
       "      <td>0</td>\n",
       "    </tr>\n",
       "    <tr>\n",
       "      <td>37419</td>\n",
       "      <td>ZUNHEBOTO</td>\n",
       "      <td>0</td>\n",
       "      <td>0</td>\n",
       "    </tr>\n",
       "    <tr>\n",
       "      <td>37420</td>\n",
       "      <td>ZUNHEBOTO</td>\n",
       "      <td>0</td>\n",
       "      <td>0</td>\n",
       "    </tr>\n",
       "    <tr>\n",
       "      <td>37425</td>\n",
       "      <td>ZUNHEBOTO</td>\n",
       "      <td>0</td>\n",
       "      <td>0</td>\n",
       "    </tr>\n",
       "    <tr>\n",
       "      <td>37429</td>\n",
       "      <td>ZUNHEBOTO</td>\n",
       "      <td>0</td>\n",
       "      <td>0</td>\n",
       "    </tr>\n",
       "  </tbody>\n",
       "</table>\n",
       "<p>66670 rows × 3 columns</p>\n",
       "</div>"
      ],
      "text/plain": [
       "      Detected_District  Total  Deceased\n",
       "51481          ADILABAD     63         0\n",
       "51529          ADILABAD     36         0\n",
       "51518          ADILABAD     34         0\n",
       "51522          ADILABAD     31         0\n",
       "51527          ADILABAD     30         0\n",
       "...                 ...    ...       ...\n",
       "37409         ZUNHEBOTO      0         0\n",
       "37419         ZUNHEBOTO      0         0\n",
       "37420         ZUNHEBOTO      0         0\n",
       "37425         ZUNHEBOTO      0         0\n",
       "37429         ZUNHEBOTO      0         0\n",
       "\n",
       "[66670 rows x 3 columns]"
      ]
     },
     "execution_count": 15,
     "metadata": {},
     "output_type": "execute_result"
    }
   ],
   "source": [
    "df_new"
   ]
  },
  {
   "cell_type": "code",
   "execution_count": 16,
   "metadata": {},
   "outputs": [
    {
     "data": {
      "text/plain": [
       "array(['ADILABAD', 'AGAR MALWA', 'AGRA', 'AHMEDABAD', 'AHMEDNAGAR',\n",
       "       'AIRPORT QUARANTINE', 'AIZAWL', 'AJMER', 'AKOLA', 'ALAPPUZHA',\n",
       "       'ALIGARH', 'ALIPURDUAR', 'ALIRAJPUR', 'ALMORA', 'ALWAR', 'AMBALA',\n",
       "       'AMBEDKAR NAGAR', 'AMETHI', 'AMRAVATI', 'AMRELI', 'AMRITSAR',\n",
       "       'AMROHA', 'ANAND', 'ANANTAPUR', 'ANANTNAG', 'ANGUL', 'ANJAW',\n",
       "       'ANUPPUR', 'ARARIA', 'ARAVALLI', 'ARIYALUR', 'ARWAL', 'ASHOKNAGAR',\n",
       "       'AURAIYA', 'AURANGABAD', 'AYODHYA', 'AZAMGARH', 'BAGALKOTE',\n",
       "       'BAGESHWAR', 'BAGHPAT', 'BAHRAICH', 'BAKSA', 'BALAGHAT',\n",
       "       'BALANGIR', 'BALASORE', 'BALLARI', 'BALLIA', 'BALOD',\n",
       "       'BALODA BAZAR', 'BALRAMPUR', 'BAMETARA', 'BANASKANTHA', 'BANDA',\n",
       "       'BANDIPORA', 'BANKA', 'BANKURA', 'BANSWARA', 'BARABANKI',\n",
       "       'BARAMULLA', 'BARAN', 'BAREILLY', 'BARGARH', 'BARMER', 'BARNALA',\n",
       "       'BARPETA', 'BARWANI', 'BASTAR', 'BASTI', 'BATHINDA', 'BEED',\n",
       "       'BEGUSARAI', 'BELAGAVI', 'BENGALURU RURAL', 'BENGALURU URBAN',\n",
       "       'BETUL', 'BHADOHI', 'BHADRADRI KOTHAGUDEM', 'BHADRAK', 'BHAGALPUR',\n",
       "       'BHANDARA', 'BHARATPUR', 'BHARUCH', 'BHAVNAGAR', 'BHILWARA',\n",
       "       'BHIND', 'BHIWANI', 'BHOJPUR', 'BHOPAL', 'BIDAR', 'BIJAPUR',\n",
       "       'BIJNOR', 'BIKANER', 'BILASPUR', 'BIRBHUM', 'BISHNUPUR',\n",
       "       'BISWANATH', 'BOKARO', 'BONGAIGAON', 'BOTAD', 'BOUDH', 'BSF CAMP',\n",
       "       'BUDAUN', 'BUDGAM', 'BULANDSHAHR', 'BULDHANA', 'BUNDI',\n",
       "       'BURHANPUR', 'BUXAR', 'CACHAR', 'CAPF PERSONNEL',\n",
       "       'CHAMARAJANAGARA', 'CHAMBA', 'CHAMOLI', 'CHAMPAWAT', 'CHAMPHAI',\n",
       "       'CHANDAULI', 'CHANDEL', 'CHANDIGARH', 'CHANDRAPUR', 'CHANGLANG',\n",
       "       'CHARAIDEO', 'CHARKHI DADRI', 'CHATRA', 'CHENGALPATTU', 'CHENNAI',\n",
       "       'CHHATARPUR', 'CHHINDWARA', 'CHHOTA UDAIPUR', 'CHIKKABALLAPURA',\n",
       "       'CHIKKAMAGALURU', 'CHIRANG', 'CHITRADURGA', 'CHITRAKOOT',\n",
       "       'CHITTOOR', 'CHITTORGARH', 'CHURACHANDPUR', 'CHURU', 'COIMBATORE',\n",
       "       'COOCH BEHAR', 'CUDDALORE', 'CUTTACK', 'DADRA AND NAGAR HAVELI',\n",
       "       'DAHOD', 'DAKSHIN BASTAR DANTEWADA', 'DAKSHIN DINAJPUR',\n",
       "       'DAKSHINA KANNADA', 'DAMAN', 'DAMOH', 'DANG', 'DARBHANGA',\n",
       "       'DARJEELING', 'DARRANG', 'DATIA', 'DAUSA', 'DAVANAGERE',\n",
       "       'DEHRADUN', 'DEOGARH', 'DEOGHAR', 'DEORIA', 'DEVBHUMI DWARKA',\n",
       "       'DEWAS', 'DHALAI', 'DHAMTARI', 'DHANBAD', 'DHAR', 'DHARMAPURI',\n",
       "       'DHARWAD', 'DHEMAJI', 'DHENKANAL', 'DHOLPUR', 'DHUBRI', 'DHULE',\n",
       "       'DIBRUGARH', 'DIMA HASAO', 'DIMAPUR', 'DINDIGUL', 'DINDORI', 'DIU',\n",
       "       'DODA', 'DUMKA', 'DUNGARPUR', 'DURG', 'EAST CHAMPARAN',\n",
       "       'EAST DELHI', 'EAST GARO HILLS', 'EAST GODAVARI',\n",
       "       'EAST JAINTIA HILLS', 'EAST KAMENG', 'EAST KHASI HILLS',\n",
       "       'EAST SIANG', 'EAST SIKKIM', 'EAST SINGHBHUM', 'ERNAKULAM',\n",
       "       'ERODE', 'ETAH', 'ETAWAH', 'EVACUEES', 'FARIDABAD', 'FARIDKOT',\n",
       "       'FARRUKHABAD', 'FATEHABAD', 'FATEHGARH SAHIB', 'FATEHPUR',\n",
       "       'FAZILKA', 'FEROZEPUR', 'FIROZABAD', 'FOREIGN EVACUEES', 'GADAG',\n",
       "       'GADCHIROLI', 'GAJAPATI', 'GANDERBAL', 'GANDHINAGAR', 'GANGANAGAR',\n",
       "       'GANJAM', 'GARHWA', 'GARIABAND', 'GAURELA PENDRA MARWAHI',\n",
       "       'GAUTAM BUDDHA NAGAR', 'GAYA', 'GHAZIABAD', 'GHAZIPUR',\n",
       "       'GIR SOMNATH', 'GIRIDIH', 'GOALPARA', 'GODDA', 'GOLAGHAT',\n",
       "       'GOMATI', 'GONDA', 'GONDIA', 'GOPALGANJ', 'GORAKHPUR', 'GUMLA',\n",
       "       'GUNA', 'GUNTUR', 'GURDASPUR', 'GURUGRAM', 'GWALIOR', 'HAILAKANDI',\n",
       "       'HAMIRPUR', 'HANUMANGARH', 'HAPUR', 'HARDA', 'HARDOI', 'HARIDWAR',\n",
       "       'HASSAN', 'HATHRAS', 'HAVERI', 'HAZARIBAGH', 'HINGOLI', 'HISAR',\n",
       "       'HNAHTHIAL', 'HOJAI', 'HOOGHLY', 'HOSHANGABAD', 'HOSHIARPUR',\n",
       "       'HOWRAH', 'HYDERABAD', 'IDUKKI', 'IMPHAL EAST', 'IMPHAL WEST',\n",
       "       'INDORE', 'ITALIANS', 'JABALPUR', 'JAGATSINGHPUR', 'JAGTIAL',\n",
       "       'JAIPUR', 'JAISALMER', 'JAJPUR', 'JALANDHAR', 'JALAUN', 'JALGAON',\n",
       "       'JALNA', 'JALORE', 'JALPAIGURI', 'JAMMU', 'JAMNAGAR', 'JAMTARA',\n",
       "       'JAMUI', 'JANGAON', 'JANJGIR CHAMPA', 'JASHPUR', 'JAUNPUR',\n",
       "       'JAYASHANKAR BHUPALAPALLY', 'JEHANABAD', 'JHABUA', 'JHAJJAR',\n",
       "       'JHALAWAR', 'JHANSI', 'JHARGRAM', 'JHARSUGUDA', 'JHUNJHUNU',\n",
       "       'JIND', 'JIRIBAM', 'JODHPUR', 'JOGULAMBA GADWAL', 'JORHAT',\n",
       "       'JUNAGADH', 'KABEERDHAM', 'KAIMUR', 'KAITHAL', 'KAKCHING',\n",
       "       'KALABURAGI', 'KALAHANDI', 'KALIMPONG', 'KALLAKURICHI',\n",
       "       'KAMAREDDY', 'KAMJONG', 'KAMLE', 'KAMRUP', 'KAMRUP METROPOLITAN',\n",
       "       'KANCHEEPURAM', 'KANDHAMAL', 'KANGPOKPI', 'KANGRA', 'KANNAUJ',\n",
       "       'KANNUR', 'KANPUR DEHAT', 'KANPUR NAGAR', 'KANYAKUMARI',\n",
       "       'KAPURTHALA', 'KARAIKAL', 'KARAULI', 'KARBI ANGLONG', 'KARGIL',\n",
       "       'KARIMGANJ', 'KARIMNAGAR', 'KARNAL', 'KARUR', 'KASARAGOD',\n",
       "       'KASGANJ', 'KATHUA', 'KATIHAR', 'KATNI', 'KAUSHAMBI', 'KENDRAPARA',\n",
       "       'KENDUJHAR', 'KHAGARIA', 'KHAMMAM', 'KHANDWA', 'KHARGONE',\n",
       "       'KHAWZAWL', 'KHEDA', 'KHORDHA', 'KHOWAI', 'KHUNTI', 'KINNAUR',\n",
       "       'KIPHIRE', 'KISHANGANJ', 'KISHTWAR', 'KODAGU', 'KODERMA', 'KOHIMA',\n",
       "       'KOKRAJHAR', 'KOLAR', 'KOLASIB', 'KOLHAPUR', 'KOLKATA', 'KOLLAM',\n",
       "       'KOMARAM BHEEM', 'KONDAGAON', 'KOPPAL', 'KORAPUT', 'KORBA',\n",
       "       'KORIYA', 'KOTA', 'KOTTAYAM', 'KOZHIKODE', 'KRA DAADI', 'KRISHNA',\n",
       "       'KRISHNAGIRI', 'KULGAM', 'KULLU', 'KUPWARA', 'KURNOOL',\n",
       "       'KURUKSHETRA', 'KUSHINAGAR', 'KUTCH', 'LAHAUL AND SPITI',\n",
       "       'LAKHIMPUR', 'LAKHIMPUR KHERI', 'LAKHISARAI', 'LALITPUR',\n",
       "       'LATEHAR', 'LATUR', 'LAWNGTLAI', 'LEH', 'LEPA RADA', 'LOHARDAGA',\n",
       "       'LOHIT', 'LONGDING', 'LONGLENG', 'LOWER DIBANG VALLEY',\n",
       "       'LOWER SIANG', 'LOWER SUBANSIRI', 'LUCKNOW', 'LUDHIANA', 'LUNGLEI',\n",
       "       'MADHEPURA', 'MADHUBANI', 'MADURAI', 'MAHABUBABAD', 'MAHABUBNAGAR',\n",
       "       'MAHARAJGANJ', 'MAHASAMUND', 'MAHE', 'MAHENDRAGARH', 'MAHISAGAR',\n",
       "       'MAHOBA', 'MAINPURI', 'MAJULI', 'MALAPPURAM', 'MALDA',\n",
       "       'MALKANGIRI', 'MAMIT', 'MANCHERIAL', 'MANDI', 'MANDLA', 'MANDSAUR',\n",
       "       'MANDYA', 'MANSA', 'MATHURA', 'MAU', 'MAYURBHANJ', 'MEDAK',\n",
       "       'MEDCHAL MALKAJGIRI', 'MEERUT', 'MEHSANA', 'MIRZAPUR', 'MOGA',\n",
       "       'MOKOKCHUNG', 'MON', 'MORADABAD', 'MORBI', 'MORENA', 'MORIGAON',\n",
       "       'MULUGU', 'MUMBAI', 'MUNGELI', 'MUNGER', 'MURSHIDABAD',\n",
       "       'MUZAFFARNAGAR', 'MUZAFFARPUR', 'MYSURU', 'NABARANGAPUR', 'NADIA',\n",
       "       'NAGAON', 'NAGAPATTINAM', 'NAGARKURNOOL', 'NAGAUR', 'NAGPUR',\n",
       "       'NAINITAL', 'NALANDA', 'NALBARI', 'NALGONDA', 'NAMAKKAL', 'NAMSAI',\n",
       "       'NANDED', 'NANDURBAR', 'NARAYANPET', 'NARAYANPUR', 'NARMADA',\n",
       "       'NARSINGHPUR', 'NASHIK', 'NAVSARI', 'NAWADA', 'NAYAGARH',\n",
       "       'NEEMUCH', 'NEW DELHI', 'NILGIRIS', 'NIRMAL', 'NIWARI',\n",
       "       'NIZAMABAD', 'NONEY', 'NORTH 24 PARGANAS',\n",
       "       'NORTH AND MIDDLE ANDAMAN', 'NORTH DELHI', 'NORTH EAST DELHI',\n",
       "       'NORTH GARO HILLS', 'NORTH GOA', 'NORTH SIKKIM', 'NORTH TRIPURA',\n",
       "       'NORTH WEST DELHI', 'NUAPADA', 'NUH', 'OSMANABAD', 'OTHER REGION',\n",
       "       'OTHER STATE', 'OTHERS', 'PAKKE KESSANG', 'PAKUR', 'PALAKKAD',\n",
       "       'PALAMU', 'PALGHAR', 'PALI', 'PALWAL', 'PANCHKULA', 'PANCHMAHAL',\n",
       "       'PANIPAT', 'PANNA', 'PAPUM PARE', 'PARBHANI', 'PASCHIM BARDHAMAN',\n",
       "       'PASCHIM MEDINIPUR', 'PATAN', 'PATHANAMTHITTA', 'PATHANKOT',\n",
       "       'PATIALA', 'PATNA', 'PAURI GARHWAL', 'PEDDAPALLI', 'PERAMBALUR',\n",
       "       'PEREN', 'PHEK', 'PHERZAWL', 'PILIBHIT', 'PITHORAGARH',\n",
       "       'PORBANDAR', 'PRAKASAM', 'PRATAPGARH', 'PRAYAGRAJ', 'PUDUCHERRY',\n",
       "       'PUDUKKOTTAI', 'PULWAMA', 'PUNCH', 'PUNE', 'PURBA BARDHAMAN',\n",
       "       'PURBA MEDINIPUR', 'PURI', 'PURNIA', 'PURULIA', 'RAE BARELI',\n",
       "       'RAICHUR', 'RAIGAD', 'RAIGARH', 'RAILWAY QUARANTINE', 'RAIPUR',\n",
       "       'RAISEN', 'RAJANNA SIRCILLA', 'RAJGARH', 'RAJKOT', 'RAJNANDGAON',\n",
       "       'RAJOURI', 'RAJSAMAND', 'RAMANAGARA', 'RAMANATHAPURAM', 'RAMBAN',\n",
       "       'RAMGARH', 'RAMPUR', 'RANCHI', 'RANGA REDDY', 'RANIPET', 'RATLAM',\n",
       "       'RATNAGIRI', 'RAYAGADA', 'REASI', 'REWA', 'REWARI', 'RIBHOI',\n",
       "       'ROHTAK', 'ROHTAS', 'RUDRAPRAYAG', 'RUPNAGAR', 'S.A.S. NAGAR',\n",
       "       'S.P.S. NELLORE', 'SABARKANTHA', 'SAGAR', 'SAHARANPUR', 'SAHARSA',\n",
       "       'SAHIBGANJ', 'SAIHA', 'SAITUAL', 'SALEM', 'SAMASTIPUR', 'SAMBA',\n",
       "       'SAMBALPUR', 'SAMBHAL', 'SANGAREDDY', 'SANGLI', 'SANGRUR',\n",
       "       'SANT KABIR NAGAR', 'SARAIKELA-KHARSAWAN', 'SARAN', 'SATARA',\n",
       "       'SATNA', 'SAWAI MADHOPUR', 'SEHORE', 'SENAPATI', 'SEONI',\n",
       "       'SERCHHIP', 'SHAHDOL', 'SHAHID BHAGAT SINGH NAGAR', 'SHAHJAHANPUR',\n",
       "       'SHAJAPUR', 'SHAMLI', 'SHEIKHPURA', 'SHEOHAR', 'SHEOPUR',\n",
       "       'SHI YOMI', 'SHIMLA', 'SHIVAMOGGA', 'SHIVPURI', 'SHOPIYAN',\n",
       "       'SHRAWASTI', 'SIANG', 'SIDDHARTHNAGAR', 'SIDDIPET', 'SIDHI',\n",
       "       'SIKAR', 'SIMDEGA', 'SINDHUDURG', 'SINGRAULI', 'SIPAHIJALA',\n",
       "       'SIRMAUR', 'SIROHI', 'SIRSA', 'SITAMARHI', 'SITAPUR', 'SIVAGANGA',\n",
       "       'SIVASAGAR', 'SIWAN', 'SOLAN', 'SOLAPUR', 'SONBHADRA', 'SONIPAT',\n",
       "       'SONITPUR', 'SOUTH 24 PARGANAS', 'SOUTH ANDAMAN', 'SOUTH DELHI',\n",
       "       'SOUTH GARO HILLS', 'SOUTH GOA', 'SOUTH SALMARA MANKACHAR',\n",
       "       'SOUTH SIKKIM', 'SOUTH TRIPURA', 'SOUTH WEST DELHI',\n",
       "       'SOUTH WEST GARO HILLS', 'SOUTH WEST KHASI HILLS',\n",
       "       'SRI MUKTSAR SAHIB', 'SRIKAKULAM', 'SRINAGAR', 'SUBARNAPUR',\n",
       "       'SUKMA', 'SULTANPUR', 'SUNDARGARH', 'SUPAUL', 'SURAJPUR', 'SURAT',\n",
       "       'SURENDRANAGAR', 'SURGUJA', 'SURYAPET', 'TAMENGLONG', 'TAPI',\n",
       "       'TARN TARAN', 'TAWANG', 'TEHRI GARHWAL', 'TENGNOUPAL', 'TENKASI',\n",
       "       'THANE', 'THANJAVUR', 'THENI', 'THIRUVALLUR', 'THIRUVANANTHAPURAM',\n",
       "       'THIRUVARUR', 'THOOTHUKKUDI', 'THOUBAL', 'THRISSUR', 'TIKAMGARH',\n",
       "       'TINSUKIA', 'TIRAP', 'TIRUCHIRAPPALLI', 'TIRUNELVELI',\n",
       "       'TIRUPATHUR', 'TIRUPPUR', 'TIRUVANNAMALAI', 'TONK', 'TUENSANG',\n",
       "       'TUMAKURU', 'UDAIPUR', 'UDALGURI', 'UDHAM SINGH NAGAR', 'UDHAMPUR',\n",
       "       'UDUPI', 'UJJAIN', 'UKHRUL', 'UMARIA', 'UNA', 'UNASSIGNED',\n",
       "       'UNKNOWN', 'UNNAO', 'UNOKOTI', 'UPPER DIBANG VALLEY',\n",
       "       'UPPER SIANG', 'UPPER SUBANSIRI', 'UTTAR BASTAR KANKER',\n",
       "       'UTTAR DINAJPUR', 'UTTARA KANNADA', 'UTTARKASHI', 'VADODARA',\n",
       "       'VAISHALI', 'VALSAD', 'VARANASI', 'VELLORE', 'VIDISHA',\n",
       "       'VIJAYAPURA', 'VIKARABAD', 'VILUPPURAM', 'VIRUDHUNAGAR',\n",
       "       'VISAKHAPATNAM', 'VIZIANAGARAM', 'WANAPARTHY', 'WARANGAL RURAL',\n",
       "       'WARANGAL URBAN', 'WARDHA', 'WASHIM', 'WAYANAD', 'WEST CHAMPARAN',\n",
       "       'WEST DELHI', 'WEST GARO HILLS', 'WEST GODAVARI',\n",
       "       'WEST JAINTIA HILLS', 'WEST KAMENG', 'WEST KARBI ANGLONG',\n",
       "       'WEST KHASI HILLS', 'WEST SIANG', 'WEST SIKKIM', 'WEST SINGHBHUM',\n",
       "       'WEST TRIPURA', 'WOKHA', 'Y.S.R. KADAPA', 'YADADRI BHUVANAGIRI',\n",
       "       'YADGIR', 'YAMUNANAGAR', 'YANAM', 'YAVATMAL', 'ZUNHEBOTO'],\n",
       "      dtype=object)"
      ]
     },
     "execution_count": 16,
     "metadata": {},
     "output_type": "execute_result"
    }
   ],
   "source": [
    "df_new['Detected_District'].unique()"
   ]
  },
  {
   "cell_type": "code",
   "execution_count": 17,
   "metadata": {},
   "outputs": [],
   "source": [
    "#df['salary'].nlargest(10)\n",
    "#df.nlargest(10,'salary')"
   ]
  },
  {
   "cell_type": "code",
   "execution_count": 18,
   "metadata": {},
   "outputs": [],
   "source": [
    "#df_new.describe()"
   ]
  },
  {
   "cell_type": "code",
   "execution_count": 19,
   "metadata": {},
   "outputs": [
    {
     "data": {
      "text/plain": [
       "OTHER STATE                 504\n",
       "AURANGABAD                  250\n",
       "HAMIRPUR                    192\n",
       "PRATAPGARH                  180\n",
       "BALRAMPUR                   173\n",
       "                           ... \n",
       "OTHER REGION                  2\n",
       "UPPER DIBANG VALLEY           1\n",
       "NORTH EAST DELHI              1\n",
       "NORTH AND MIDDLE ANDAMAN      1\n",
       "KRA DAADI                     1\n",
       "Name: Detected_District, Length: 734, dtype: int64"
      ]
     },
     "execution_count": 19,
     "metadata": {},
     "output_type": "execute_result"
    }
   ],
   "source": [
    "df_new['Detected_District'].value_counts()"
   ]
  },
  {
   "cell_type": "code",
   "execution_count": 20,
   "metadata": {},
   "outputs": [],
   "source": [
    "District=df_new.groupby(['Detected_District'])"
   ]
  },
  {
   "cell_type": "code",
   "execution_count": 21,
   "metadata": {},
   "outputs": [],
   "source": [
    "total_cases=District['Total'].apply(lambda x: x.sum())"
   ]
  },
  {
   "cell_type": "code",
   "execution_count": 22,
   "metadata": {},
   "outputs": [],
   "source": [
    "total_death=District['Deceased'].apply(lambda x: x.sum())"
   ]
  },
  {
   "cell_type": "code",
   "execution_count": 23,
   "metadata": {},
   "outputs": [],
   "source": [
    "Unique_district=df_new['Detected_District'].value_counts()"
   ]
  },
  {
   "cell_type": "code",
   "execution_count": 24,
   "metadata": {},
   "outputs": [],
   "source": [
    "final_df=pd.concat([total_cases,total_death],axis='columns',sort=False)"
   ]
  },
  {
   "cell_type": "code",
   "execution_count": 25,
   "metadata": {},
   "outputs": [
    {
     "data": {
      "text/html": [
       "<div>\n",
       "<style scoped>\n",
       "    .dataframe tbody tr th:only-of-type {\n",
       "        vertical-align: middle;\n",
       "    }\n",
       "\n",
       "    .dataframe tbody tr th {\n",
       "        vertical-align: top;\n",
       "    }\n",
       "\n",
       "    .dataframe thead th {\n",
       "        text-align: right;\n",
       "    }\n",
       "</style>\n",
       "<table border=\"1\" class=\"dataframe\">\n",
       "  <thead>\n",
       "    <tr style=\"text-align: right;\">\n",
       "      <th></th>\n",
       "      <th>Total</th>\n",
       "      <th>Deceased</th>\n",
       "    </tr>\n",
       "    <tr>\n",
       "      <th>Detected_District</th>\n",
       "      <th></th>\n",
       "      <th></th>\n",
       "    </tr>\n",
       "  </thead>\n",
       "  <tbody>\n",
       "    <tr>\n",
       "      <td>ADILABAD</td>\n",
       "      <td>928</td>\n",
       "      <td>0</td>\n",
       "    </tr>\n",
       "    <tr>\n",
       "      <td>AGAR MALWA</td>\n",
       "      <td>193</td>\n",
       "      <td>4</td>\n",
       "    </tr>\n",
       "    <tr>\n",
       "      <td>AGRA</td>\n",
       "      <td>2843</td>\n",
       "      <td>99</td>\n",
       "    </tr>\n",
       "    <tr>\n",
       "      <td>AHMEDABAD</td>\n",
       "      <td>31346</td>\n",
       "      <td>1609</td>\n",
       "    </tr>\n",
       "    <tr>\n",
       "      <td>AHMEDNAGAR</td>\n",
       "      <td>20155</td>\n",
       "      <td>290</td>\n",
       "    </tr>\n",
       "    <tr>\n",
       "      <td>...</td>\n",
       "      <td>...</td>\n",
       "      <td>...</td>\n",
       "    </tr>\n",
       "    <tr>\n",
       "      <td>YADGIR</td>\n",
       "      <td>5272</td>\n",
       "      <td>40</td>\n",
       "    </tr>\n",
       "    <tr>\n",
       "      <td>YAMUNANAGAR</td>\n",
       "      <td>1571</td>\n",
       "      <td>19</td>\n",
       "    </tr>\n",
       "    <tr>\n",
       "      <td>YANAM</td>\n",
       "      <td>883</td>\n",
       "      <td>21</td>\n",
       "    </tr>\n",
       "    <tr>\n",
       "      <td>YAVATMAL</td>\n",
       "      <td>3181</td>\n",
       "      <td>72</td>\n",
       "    </tr>\n",
       "    <tr>\n",
       "      <td>ZUNHEBOTO</td>\n",
       "      <td>116</td>\n",
       "      <td>0</td>\n",
       "    </tr>\n",
       "  </tbody>\n",
       "</table>\n",
       "<p>734 rows × 2 columns</p>\n",
       "</div>"
      ],
      "text/plain": [
       "                   Total  Deceased\n",
       "Detected_District                 \n",
       "ADILABAD             928         0\n",
       "AGAR MALWA           193         4\n",
       "AGRA                2843        99\n",
       "AHMEDABAD          31346      1609\n",
       "AHMEDNAGAR         20155       290\n",
       "...                  ...       ...\n",
       "YADGIR              5272        40\n",
       "YAMUNANAGAR         1571        19\n",
       "YANAM                883        21\n",
       "YAVATMAL            3181        72\n",
       "ZUNHEBOTO            116         0\n",
       "\n",
       "[734 rows x 2 columns]"
      ]
     },
     "execution_count": 25,
     "metadata": {},
     "output_type": "execute_result"
    }
   ],
   "source": [
    "final_df"
   ]
  },
  {
   "cell_type": "code",
   "execution_count": 26,
   "metadata": {},
   "outputs": [
    {
     "name": "stdout",
     "output_type": "stream",
     "text": [
      "<class 'pandas.core.frame.DataFrame'>\n",
      "Index: 734 entries, ADILABAD to ZUNHEBOTO\n",
      "Data columns (total 2 columns):\n",
      "Total       734 non-null int64\n",
      "Deceased    734 non-null int64\n",
      "dtypes: int64(2)\n",
      "memory usage: 17.2+ KB\n"
     ]
    }
   ],
   "source": [
    "final_df.info()"
   ]
  },
  {
   "cell_type": "code",
   "execution_count": 27,
   "metadata": {},
   "outputs": [
    {
     "data": {
      "text/plain": [
       "Index(['Total', 'Deceased'], dtype='object')"
      ]
     },
     "execution_count": 27,
     "metadata": {},
     "output_type": "execute_result"
    }
   ],
   "source": [
    "final_df.columns"
   ]
  },
  {
   "cell_type": "code",
   "execution_count": 28,
   "metadata": {},
   "outputs": [
    {
     "data": {
      "text/html": [
       "<div>\n",
       "<style scoped>\n",
       "    .dataframe tbody tr th:only-of-type {\n",
       "        vertical-align: middle;\n",
       "    }\n",
       "\n",
       "    .dataframe tbody tr th {\n",
       "        vertical-align: top;\n",
       "    }\n",
       "\n",
       "    .dataframe thead th {\n",
       "        text-align: right;\n",
       "    }\n",
       "</style>\n",
       "<table border=\"1\" class=\"dataframe\">\n",
       "  <thead>\n",
       "    <tr style=\"text-align: right;\">\n",
       "      <th></th>\n",
       "      <th>Total</th>\n",
       "      <th>Deceased</th>\n",
       "    </tr>\n",
       "  </thead>\n",
       "  <tbody>\n",
       "    <tr>\n",
       "      <td>count</td>\n",
       "      <td>734.000000</td>\n",
       "      <td>734.000000</td>\n",
       "    </tr>\n",
       "    <tr>\n",
       "      <td>mean</td>\n",
       "      <td>4668.032698</td>\n",
       "      <td>80.119891</td>\n",
       "    </tr>\n",
       "    <tr>\n",
       "      <td>std</td>\n",
       "      <td>13299.521492</td>\n",
       "      <td>381.223323</td>\n",
       "    </tr>\n",
       "    <tr>\n",
       "      <td>min</td>\n",
       "      <td>0.000000</td>\n",
       "      <td>0.000000</td>\n",
       "    </tr>\n",
       "    <tr>\n",
       "      <td>25%</td>\n",
       "      <td>567.500000</td>\n",
       "      <td>2.000000</td>\n",
       "    </tr>\n",
       "    <tr>\n",
       "      <td>50%</td>\n",
       "      <td>1534.000000</td>\n",
       "      <td>12.000000</td>\n",
       "    </tr>\n",
       "    <tr>\n",
       "      <td>75%</td>\n",
       "      <td>3722.750000</td>\n",
       "      <td>39.750000</td>\n",
       "    </tr>\n",
       "    <tr>\n",
       "      <td>max</td>\n",
       "      <td>173174.000000</td>\n",
       "      <td>7424.000000</td>\n",
       "    </tr>\n",
       "  </tbody>\n",
       "</table>\n",
       "</div>"
      ],
      "text/plain": [
       "               Total     Deceased\n",
       "count     734.000000   734.000000\n",
       "mean     4668.032698    80.119891\n",
       "std     13299.521492   381.223323\n",
       "min         0.000000     0.000000\n",
       "25%       567.500000     2.000000\n",
       "50%      1534.000000    12.000000\n",
       "75%      3722.750000    39.750000\n",
       "max    173174.000000  7424.000000"
      ]
     },
     "execution_count": 28,
     "metadata": {},
     "output_type": "execute_result"
    }
   ],
   "source": [
    "final_df.describe()"
   ]
  },
  {
   "cell_type": "code",
   "execution_count": 29,
   "metadata": {},
   "outputs": [],
   "source": [
    "#final_df.set_index['Detected_District',inplace=True]"
   ]
  },
  {
   "cell_type": "code",
   "execution_count": 30,
   "metadata": {},
   "outputs": [
    {
     "name": "stderr",
     "output_type": "stream",
     "text": [
      "C:\\Users\\AMAN\\Anaconda3\\lib\\site-packages\\seaborn\\regression.py:546: UserWarning: The `size` paramter has been renamed to `height`; please update your code.\n",
      "  warnings.warn(msg, UserWarning)\n"
     ]
    },
    {
     "data": {
      "text/plain": [
       "<seaborn.axisgrid.FacetGrid at 0x25546a4f4c8>"
      ]
     },
     "execution_count": 30,
     "metadata": {},
     "output_type": "execute_result"
    },
    {
     "data": {
      "image/png": "[encoded data removed]",
      "text/plain": [
       "<Figure size 1440x720 with 1 Axes>"
      ]
     },
     "metadata": {},
     "output_type": "display_data"
    }
   ],
   "source": [
    "sns.set_style('whitegrid')\n",
    "sns.lmplot('Total','Deceased',data=final_df,\n",
    "           palette='coolwarm',size=10,aspect=2,fit_reg=False)"
   ]
  },
  {
   "cell_type": "code",
   "execution_count": 31,
   "metadata": {},
   "outputs": [
    {
     "data": {
      "text/html": [
       "<div>\n",
       "<style scoped>\n",
       "    .dataframe tbody tr th:only-of-type {\n",
       "        vertical-align: middle;\n",
       "    }\n",
       "\n",
       "    .dataframe tbody tr th {\n",
       "        vertical-align: top;\n",
       "    }\n",
       "\n",
       "    .dataframe thead th {\n",
       "        text-align: right;\n",
       "    }\n",
       "</style>\n",
       "<table border=\"1\" class=\"dataframe\">\n",
       "  <thead>\n",
       "    <tr style=\"text-align: right;\">\n",
       "      <th></th>\n",
       "      <th>Total</th>\n",
       "      <th>Deceased</th>\n",
       "    </tr>\n",
       "    <tr>\n",
       "      <th>Detected_District</th>\n",
       "      <th></th>\n",
       "      <th></th>\n",
       "    </tr>\n",
       "  </thead>\n",
       "  <tbody>\n",
       "    <tr>\n",
       "      <td>BENGALURU URBAN</td>\n",
       "      <td>127263</td>\n",
       "      <td>1934</td>\n",
       "    </tr>\n",
       "    <tr>\n",
       "      <td>CHENNAI</td>\n",
       "      <td>134436</td>\n",
       "      <td>2714</td>\n",
       "    </tr>\n",
       "    <tr>\n",
       "      <td>MUMBAI</td>\n",
       "      <td>145445</td>\n",
       "      <td>7424</td>\n",
       "    </tr>\n",
       "    <tr>\n",
       "      <td>PUNE</td>\n",
       "      <td>173174</td>\n",
       "      <td>4015</td>\n",
       "    </tr>\n",
       "    <tr>\n",
       "      <td>THANE</td>\n",
       "      <td>131351</td>\n",
       "      <td>3763</td>\n",
       "    </tr>\n",
       "  </tbody>\n",
       "</table>\n",
       "</div>"
      ],
      "text/plain": [
       "                    Total  Deceased\n",
       "Detected_District                  \n",
       "BENGALURU URBAN    127263      1934\n",
       "CHENNAI            134436      2714\n",
       "MUMBAI             145445      7424\n",
       "PUNE               173174      4015\n",
       "THANE              131351      3763"
      ]
     },
     "execution_count": 31,
     "metadata": {},
     "output_type": "execute_result"
    }
   ],
   "source": [
    "final_df[final_df['Total'] > 75000]"
   ]
  },
  {
   "cell_type": "code",
   "execution_count": 32,
   "metadata": {},
   "outputs": [],
   "source": [
    "x=final_df\n",
    "from sklearn import preprocessing\n",
    "x_scaled=preprocessing.scale(x)\n"
   ]
  },
  {
   "cell_type": "markdown",
   "metadata": {},
   "source": [
    "# Applying Kmeans clustering"
   ]
  },
  {
   "cell_type": "code",
   "execution_count": 33,
   "metadata": {},
   "outputs": [],
   "source": [
    "from sklearn.cluster import KMeans"
   ]
  },
  {
   "cell_type": "code",
   "execution_count": 34,
   "metadata": {},
   "outputs": [],
   "source": []
  },
  {
   "cell_type": "code",
   "execution_count": 35,
   "metadata": {},
   "outputs": [
    {
     "data": {
      "text/plain": [
       "KMeans(algorithm='auto', copy_x=True, init='k-means++', max_iter=300,\n",
       "       n_clusters=4, n_init=10, n_jobs=None, precompute_distances='auto',\n",
       "       random_state=None, tol=0.0001, verbose=0)"
      ]
     },
     "execution_count": 35,
     "metadata": {},
     "output_type": "execute_result"
    }
   ],
   "source": []
  },
  {
   "cell_type": "code",
   "execution_count": 36,
   "metadata": {},
   "outputs": [
    {
     "data": {
      "text/plain": [
       "119.71641376605112"
      ]
     },
     "execution_count": 36,
     "metadata": {},
     "output_type": "execute_result"
    }
   ],
   "source": [
    "kmeans.inertia_"
   ]
  },
  {
   "cell_type": "code",
   "execution_count": 37,
   "metadata": {},
   "outputs": [
    {
     "data": {
      "text/plain": [
       "array([[-0.17929588, -0.13761276],\n",
       "       [10.29971723,  7.94401498],\n",
       "       [ 1.57438178,  0.9571989 ],\n",
       "       [10.59233316, 19.27712035]])"
      ]
     },
     "execution_count": 37,
     "metadata": {},
     "output_type": "execute_result"
    }
   ],
   "source": [
    "kmeans.cluster_centers_"
   ]
  },
  {
   "cell_type": "code",
   "execution_count": 38,
   "metadata": {},
   "outputs": [],
   "source": [
    "wcss=[]\n",
    "for  i in range(1,10):\n",
    "    kmeans=KMeans(i)\n",
    "    kmeans.fit(x_scaled)\n",
    "    wcss_iter=kmeans.inertia_\n",
    "    wcss.append(wcss_iter)\n",
    "    "
   ]
  },
  {
   "cell_type": "code",
   "execution_count": 39,
   "metadata": {},
   "outputs": [
    {
     "data": {
      "text/plain": [
       "[1468.0,\n",
       " 402.9940253022519,\n",
       " 222.53633496355258,\n",
       " 119.71641376605112,\n",
       " 83.83774727567736,\n",
       " 64.36622231672818,\n",
       " 49.67012935002545,\n",
       " 40.01933472537084,\n",
       " 32.7723050336113]"
      ]
     },
     "execution_count": 39,
     "metadata": {},
     "output_type": "execute_result"
    }
   ],
   "source": [
    "wcss"
   ]
  },
  {
   "cell_type": "code",
   "execution_count": 40,
   "metadata": {},
   "outputs": [
    {
     "data": {
      "text/plain": [
       "Text(0, 0.5, 'within cluster sum of square')"
      ]
     },
     "execution_count": 40,
     "metadata": {},
     "output_type": "execute_result"
    },
    {
     "data": {
      "image/png": "[encoded data removed]",
      "text/plain": [
       "<Figure size 432x288 with 1 Axes>"
      ]
     },
     "metadata": {},
     "output_type": "display_data"
    }
   ],
   "source": [
    "number_clusters=range(1,10)\n",
    "plt.plot(number_clusters,wcss)\n",
    "plt.title('The elbow method')\n",
    "plt.xlabel('Number of clusters')\n",
    "plt.ylabel('within cluster sum of square')"
   ]
  },
  {
   "cell_type": "code",
   "execution_count": 41,
   "metadata": {},
   "outputs": [],
   "source": [
    "#clearly we can choose either 3 or 4 cluster as our solution of the problem ."
   ]
  },
  {
   "cell_type": "code",
   "execution_count": 51,
   "metadata": {},
   "outputs": [],
   "source": [
    "kmeans = KMeans(n_clusters=4)"
   ]
  },
  {
   "cell_type": "code",
   "execution_count": 52,
   "metadata": {},
   "outputs": [
    {
     "data": {
      "text/plain": [
       "KMeans(algorithm='auto', copy_x=True, init='k-means++', max_iter=300,\n",
       "       n_clusters=4, n_init=10, n_jobs=None, precompute_distances='auto',\n",
       "       random_state=None, tol=0.0001, verbose=0)"
      ]
     },
     "execution_count": 52,
     "metadata": {},
     "output_type": "execute_result"
    }
   ],
   "source": [
    "kmeans.fit(x_scaled)"
   ]
  },
  {
   "cell_type": "code",
   "execution_count": 53,
   "metadata": {},
   "outputs": [
    {
     "data": {
      "text/plain": [
       "734"
      ]
     },
     "execution_count": 53,
     "metadata": {},
     "output_type": "execute_result"
    }
   ],
   "source": [
    "len(kmeans.labels_)"
   ]
  },
  {
   "cell_type": "code",
   "execution_count": 55,
   "metadata": {},
   "outputs": [],
   "source": [
    "pinaka_1['VM'] = np.where( pinaka_1.VM > 0.05, 1, 0)"
   ]
  },
  {
   "cell_type": "code",
   "execution_count": 56,
   "metadata": {},
   "outputs": [
    {
     "data": {
      "text/html": [
       "<div>\n",
       "<style scoped>\n",
       "    .dataframe tbody tr th:only-of-type {\n",
       "        vertical-align: middle;\n",
       "    }\n",
       "\n",
       "    .dataframe tbody tr th {\n",
       "        vertical-align: top;\n",
       "    }\n",
       "\n",
       "    .dataframe thead th {\n",
       "        text-align: right;\n",
       "    }\n",
       "</style>\n",
       "<table border=\"1\" class=\"dataframe\">\n",
       "  <thead>\n",
       "    <tr style=\"text-align: right;\">\n",
       "      <th></th>\n",
       "      <th>Total</th>\n",
       "      <th>Deceased</th>\n",
       "      <th>clusters</th>\n",
       "    </tr>\n",
       "    <tr>\n",
       "      <th>Detected_District</th>\n",
       "      <th></th>\n",
       "      <th></th>\n",
       "      <th></th>\n",
       "    </tr>\n",
       "  </thead>\n",
       "  <tbody>\n",
       "    <tr>\n",
       "      <td>ADILABAD</td>\n",
       "      <td>928</td>\n",
       "      <td>0</td>\n",
       "      <td>0</td>\n",
       "    </tr>\n",
       "    <tr>\n",
       "      <td>AGAR MALWA</td>\n",
       "      <td>193</td>\n",
       "      <td>4</td>\n",
       "      <td>0</td>\n",
       "    </tr>\n",
       "    <tr>\n",
       "      <td>AGRA</td>\n",
       "      <td>2843</td>\n",
       "      <td>99</td>\n",
       "      <td>0</td>\n",
       "    </tr>\n",
       "    <tr>\n",
       "      <td>AHMEDABAD</td>\n",
       "      <td>31346</td>\n",
       "      <td>1609</td>\n",
       "      <td>3</td>\n",
       "    </tr>\n",
       "    <tr>\n",
       "      <td>AHMEDNAGAR</td>\n",
       "      <td>20155</td>\n",
       "      <td>290</td>\n",
       "      <td>3</td>\n",
       "    </tr>\n",
       "    <tr>\n",
       "      <td>...</td>\n",
       "      <td>...</td>\n",
       "      <td>...</td>\n",
       "      <td>...</td>\n",
       "    </tr>\n",
       "    <tr>\n",
       "      <td>YADGIR</td>\n",
       "      <td>5272</td>\n",
       "      <td>40</td>\n",
       "      <td>0</td>\n",
       "    </tr>\n",
       "    <tr>\n",
       "      <td>YAMUNANAGAR</td>\n",
       "      <td>1571</td>\n",
       "      <td>19</td>\n",
       "      <td>0</td>\n",
       "    </tr>\n",
       "    <tr>\n",
       "      <td>YANAM</td>\n",
       "      <td>883</td>\n",
       "      <td>21</td>\n",
       "      <td>0</td>\n",
       "    </tr>\n",
       "    <tr>\n",
       "      <td>YAVATMAL</td>\n",
       "      <td>3181</td>\n",
       "      <td>72</td>\n",
       "      <td>0</td>\n",
       "    </tr>\n",
       "    <tr>\n",
       "      <td>ZUNHEBOTO</td>\n",
       "      <td>116</td>\n",
       "      <td>0</td>\n",
       "      <td>0</td>\n",
       "    </tr>\n",
       "  </tbody>\n",
       "</table>\n",
       "<p>734 rows × 3 columns</p>\n",
       "</div>"
      ],
      "text/plain": [
       "                   Total  Deceased  clusters\n",
       "Detected_District                           \n",
       "ADILABAD             928         0         0\n",
       "AGAR MALWA           193         4         0\n",
       "AGRA                2843        99         0\n",
       "AHMEDABAD          31346      1609         3\n",
       "AHMEDNAGAR         20155       290         3\n",
       "...                  ...       ...       ...\n",
       "YADGIR              5272        40         0\n",
       "YAMUNANAGAR         1571        19         0\n",
       "YANAM                883        21         0\n",
       "YAVATMAL            3181        72         0\n",
       "ZUNHEBOTO            116         0         0\n",
       "\n",
       "[734 rows x 3 columns]"
      ]
     },
     "execution_count": 56,
     "metadata": {},
     "output_type": "execute_result"
    }
   ],
   "source": [
    "final_df"
   ]
  },
  {
   "cell_type": "code",
   "execution_count": 45,
   "metadata": {},
   "outputs": [],
   "source": [
    "#final_df.sort_values(by='clusters',ascending=True,inplace=True)"
   ]
  },
  {
   "cell_type": "code",
   "execution_count": 57,
   "metadata": {},
   "outputs": [
    {
     "name": "stdout",
     "output_type": "stream",
     "text": [
      "['BENGALURU URBAN' 'CHENNAI' 'PUNE' 'THANE']\n"
     ]
    }
   ],
   "source": [
    "print(final_df[final_df['clusters']==1].index.values)\n",
    "#severely affected"
   ]
  },
  {
   "cell_type": "code",
   "execution_count": 58,
   "metadata": {},
   "outputs": [
    {
     "name": "stdout",
     "output_type": "stream",
     "text": [
      "['MUMBAI']\n"
     ]
    }
   ],
   "source": [
    "print(final_df[final_df['clusters']==2].index.values)\n",
    "#Highly affected"
   ]
  },
  {
   "cell_type": "code",
   "execution_count": 62,
   "metadata": {},
   "outputs": [
    {
     "name": "stdout",
     "output_type": "stream",
     "text": [
      "['ADILABAD' 'AGAR MALWA' 'AGRA' 'AIRPORT QUARANTINE' 'AIZAWL' 'AJMER'\n",
      " 'AKOLA' 'ALAPPUZHA' 'ALIGARH' 'ALIPURDUAR' 'ALIRAJPUR' 'ALMORA' 'ALWAR'\n",
      " 'AMBALA' 'AMBEDKAR NAGAR' 'AMETHI' 'AMRAVATI' 'AMRELI' 'AMRITSAR'\n",
      " 'AMROHA' 'ANAND' 'ANANTNAG' 'ANGUL' 'ANJAW' 'ANUPPUR' 'ARARIA' 'ARAVALLI'\n",
      " 'ARIYALUR' 'ARWAL' 'ASHOKNAGAR' 'AURAIYA' 'AYODHYA' 'AZAMGARH'\n",
      " 'BAGALKOTE' 'BAGESHWAR' 'BAGHPAT' 'BAHRAICH' 'BAKSA' 'BALAGHAT'\n",
      " 'BALANGIR' 'BALASORE' 'BALLIA' 'BALOD' 'BALODA BAZAR' 'BALRAMPUR'\n",
      " 'BAMETARA' 'BANASKANTHA' 'BANDA' 'BANDIPORA' 'BANKA' 'BANKURA' 'BANSWARA'\n",
      " 'BARABANKI' 'BARAMULLA' 'BARAN' 'BAREILLY' 'BARGARH' 'BARMER' 'BARNALA'\n",
      " 'BARPETA' 'BARWANI' 'BASTAR' 'BASTI' 'BATHINDA' 'BEED' 'BEGUSARAI'\n",
      " 'BELAGAVI' 'BENGALURU RURAL' 'BETUL' 'BHADOHI' 'BHADRADRI KOTHAGUDEM'\n",
      " 'BHADRAK' 'BHAGALPUR' 'BHANDARA' 'BHARATPUR' 'BHARUCH' 'BHAVNAGAR'\n",
      " 'BHILWARA' 'BHIND' 'BHIWANI' 'BHOJPUR' 'BHOPAL' 'BIDAR' 'BIJAPUR'\n",
      " 'BIJNOR' 'BIKANER' 'BILASPUR' 'BIRBHUM' 'BISHNUPUR' 'BISWANATH' 'BOKARO'\n",
      " 'BONGAIGAON' 'BOTAD' 'BOUDH' 'BSF CAMP' 'BUDAUN' 'BUDGAM' 'BULANDSHAHR'\n",
      " 'BULDHANA' 'BUNDI' 'BURHANPUR' 'BUXAR' 'CACHAR' 'CAPF PERSONNEL'\n",
      " 'CHAMARAJANAGARA' 'CHAMBA' 'CHAMOLI' 'CHAMPAWAT' 'CHAMPHAI' 'CHANDAULI'\n",
      " 'CHANDEL' 'CHANDIGARH' 'CHANDRAPUR' 'CHANGLANG' 'CHARAIDEO'\n",
      " 'CHARKHI DADRI' 'CHATRA' 'CHHATARPUR' 'CHHINDWARA' 'CHHOTA UDAIPUR'\n",
      " 'CHIKKABALLAPURA' 'CHIKKAMAGALURU' 'CHIRANG' 'CHITRADURGA' 'CHITRAKOOT'\n",
      " 'CHITTORGARH' 'CHURACHANDPUR' 'CHURU' 'COOCH BEHAR' 'CUDDALORE' 'CUTTACK'\n",
      " 'DADRA AND NAGAR HAVELI' 'DAHOD' 'DAKSHIN BASTAR DANTEWADA'\n",
      " 'DAKSHIN DINAJPUR' 'DAMAN' 'DAMOH' 'DANG' 'DARBHANGA' 'DARJEELING'\n",
      " 'DARRANG' 'DATIA' 'DAUSA' 'DAVANAGERE' 'DEHRADUN' 'DEOGARH' 'DEOGHAR'\n",
      " 'DEORIA' 'DEVBHUMI DWARKA' 'DEWAS' 'DHALAI' 'DHAMTARI' 'DHANBAD' 'DHAR'\n",
      " 'DHARMAPURI' 'DHARWAD' 'DHEMAJI' 'DHENKANAL' 'DHOLPUR' 'DHUBRI' 'DHULE'\n",
      " 'DIBRUGARH' 'DIMA HASAO' 'DIMAPUR' 'DINDIGUL' 'DINDORI' 'DIU' 'DODA'\n",
      " 'DUMKA' 'DUNGARPUR' 'DURG' 'EAST CHAMPARAN' 'EAST DELHI'\n",
      " 'EAST GARO HILLS' 'EAST JAINTIA HILLS' 'EAST KAMENG' 'EAST KHASI HILLS'\n",
      " 'EAST SIANG' 'EAST SIKKIM' 'EAST SINGHBHUM' 'ERNAKULAM' 'ERODE' 'ETAH'\n",
      " 'ETAWAH' 'EVACUEES' 'FARIDABAD' 'FARIDKOT' 'FARRUKHABAD' 'FATEHABAD'\n",
      " 'FATEHGARH SAHIB' 'FATEHPUR' 'FAZILKA' 'FEROZEPUR' 'FIROZABAD'\n",
      " 'FOREIGN EVACUEES' 'GADAG' 'GADCHIROLI' 'GAJAPATI' 'GANDERBAL'\n",
      " 'GANDHINAGAR' 'GANGANAGAR' 'GARHWA' 'GARIABAND' 'GAURELA PENDRA MARWAHI'\n",
      " 'GAUTAM BUDDHA NAGAR' 'GAYA' 'GHAZIABAD' 'GHAZIPUR' 'GIR SOMNATH'\n",
      " 'GIRIDIH' 'GOALPARA' 'GODDA' 'GOLAGHAT' 'GOMATI' 'GONDA' 'GONDIA'\n",
      " 'GOPALGANJ' 'GORAKHPUR' 'GUMLA' 'GUNA' 'GURDASPUR' 'GURUGRAM' 'GWALIOR'\n",
      " 'HAILAKANDI' 'HAMIRPUR' 'HANUMANGARH' 'HAPUR' 'HARDA' 'HARDOI' 'HARIDWAR'\n",
      " 'HASSAN' 'HATHRAS' 'HAVERI' 'HAZARIBAGH' 'HINGOLI' 'HISAR' 'HNAHTHIAL'\n",
      " 'HOJAI' 'HOOGHLY' 'HOSHANGABAD' 'HOSHIARPUR' 'IDUKKI' 'IMPHAL EAST'\n",
      " 'IMPHAL WEST' 'ITALIANS' 'JABALPUR' 'JAGATSINGHPUR' 'JAGTIAL' 'JAIPUR'\n",
      " 'JAISALMER' 'JAJPUR' 'JALANDHAR' 'JALAUN' 'JALNA' 'JALORE' 'JALPAIGURI'\n",
      " 'JAMMU' 'JAMNAGAR' 'JAMTARA' 'JAMUI' 'JANGAON' 'JANJGIR CHAMPA' 'JASHPUR'\n",
      " 'JAUNPUR' 'JAYASHANKAR BHUPALAPALLY' 'JEHANABAD' 'JHABUA' 'JHAJJAR'\n",
      " 'JHALAWAR' 'JHANSI' 'JHARGRAM' 'JHARSUGUDA' 'JHUNJHUNU' 'JIND' 'JIRIBAM'\n",
      " 'JODHPUR' 'JOGULAMBA GADWAL' 'JORHAT' 'JUNAGADH' 'KABEERDHAM' 'KAIMUR'\n",
      " 'KAITHAL' 'KAKCHING' 'KALABURAGI' 'KALAHANDI' 'KALIMPONG' 'KALLAKURICHI'\n",
      " 'KAMAREDDY' 'KAMJONG' 'KAMLE' 'KAMRUP' 'KANDHAMAL' 'KANGPOKPI' 'KANGRA'\n",
      " 'KANNAUJ' 'KANNUR' 'KANPUR DEHAT' 'KANYAKUMARI' 'KAPURTHALA' 'KARAIKAL'\n",
      " 'KARAULI' 'KARBI ANGLONG' 'KARGIL' 'KARIMGANJ' 'KARIMNAGAR' 'KARNAL'\n",
      " 'KARUR' 'KASARAGOD' 'KASGANJ' 'KATHUA' 'KATIHAR' 'KATNI' 'KAUSHAMBI'\n",
      " 'KENDRAPARA' 'KENDUJHAR' 'KHAGARIA' 'KHAMMAM' 'KHANDWA' 'KHARGONE'\n",
      " 'KHAWZAWL' 'KHEDA' 'KHORDHA' 'KHOWAI' 'KHUNTI' 'KINNAUR' 'KIPHIRE'\n",
      " 'KISHANGANJ' 'KISHTWAR' 'KODAGU' 'KODERMA' 'KOHIMA' 'KOKRAJHAR' 'KOLAR'\n",
      " 'KOLASIB' 'KOLLAM' 'KOMARAM BHEEM' 'KONDAGAON' 'KOPPAL' 'KORAPUT' 'KORBA'\n",
      " 'KORIYA' 'KOTA' 'KOTTAYAM' 'KOZHIKODE' 'KRA DAADI' 'KRISHNAGIRI' 'KULGAM'\n",
      " 'KULLU' 'KUPWARA' 'KURUKSHETRA' 'KUSHINAGAR' 'KUTCH' 'LAHAUL AND SPITI'\n",
      " 'LAKHIMPUR' 'LAKHIMPUR KHERI' 'LAKHISARAI' 'LALITPUR' 'LATEHAR' 'LATUR'\n",
      " 'LAWNGTLAI' 'LEH' 'LEPA RADA' 'LOHARDAGA' 'LOHIT' 'LONGDING' 'LONGLENG'\n",
      " 'LOWER DIBANG VALLEY' 'LOWER SIANG' 'LOWER SUBANSIRI' 'LUNGLEI'\n",
      " 'MADHEPURA' 'MADHUBANI' 'MAHABUBABAD' 'MAHABUBNAGAR' 'MAHARAJGANJ'\n",
      " 'MAHASAMUND' 'MAHE' 'MAHENDRAGARH' 'MAHISAGAR' 'MAHOBA' 'MAINPURI'\n",
      " 'MAJULI' 'MALAPPURAM' 'MALDA' 'MALKANGIRI' 'MAMIT' 'MANCHERIAL' 'MANDI'\n",
      " 'MANDLA' 'MANDSAUR' 'MANDYA' 'MANSA' 'MATHURA' 'MAU' 'MAYURBHANJ' 'MEDAK'\n",
      " 'MEDCHAL MALKAJGIRI' 'MEERUT' 'MEHSANA' 'MIRZAPUR' 'MOGA' 'MOKOKCHUNG'\n",
      " 'MON' 'MORADABAD' 'MORBI' 'MORENA' 'MORIGAON' 'MULUGU' 'MUNGELI' 'MUNGER'\n",
      " 'MURSHIDABAD' 'MUZAFFARNAGAR' 'MUZAFFARPUR' 'NABARANGAPUR' 'NADIA'\n",
      " 'NAGAON' 'NAGAPATTINAM' 'NAGARKURNOOL' 'NAGAUR' 'NAINITAL' 'NALANDA'\n",
      " 'NALBARI' 'NALGONDA' 'NAMAKKAL' 'NAMSAI' 'NANDED' 'NANDURBAR'\n",
      " 'NARAYANPET' 'NARAYANPUR' 'NARMADA' 'NARSINGHPUR' 'NAVSARI' 'NAWADA'\n",
      " 'NAYAGARH' 'NEEMUCH' 'NEW DELHI' 'NILGIRIS' 'NIRMAL' 'NIWARI' 'NIZAMABAD'\n",
      " 'NONEY' 'NORTH AND MIDDLE ANDAMAN' 'NORTH DELHI' 'NORTH EAST DELHI'\n",
      " 'NORTH GARO HILLS' 'NORTH GOA' 'NORTH SIKKIM' 'NORTH TRIPURA'\n",
      " 'NORTH WEST DELHI' 'NUAPADA' 'NUH' 'OSMANABAD' 'OTHER REGION'\n",
      " 'OTHER STATE' 'OTHERS' 'PAKKE KESSANG' 'PAKUR' 'PALAKKAD' 'PALAMU' 'PALI'\n",
      " 'PALWAL' 'PANCHKULA' 'PANCHMAHAL' 'PANIPAT' 'PANNA' 'PAPUM PARE'\n",
      " 'PARBHANI' 'PASCHIM BARDHAMAN' 'PASCHIM MEDINIPUR' 'PATAN'\n",
      " 'PATHANAMTHITTA' 'PATHANKOT' 'PATIALA' 'PAURI GARHWAL' 'PEDDAPALLI'\n",
      " 'PERAMBALUR' 'PEREN' 'PHEK' 'PHERZAWL' 'PILIBHIT' 'PITHORAGARH'\n",
      " 'PORBANDAR' 'PRATAPGARH' 'PRAYAGRAJ' 'PUDUCHERRY' 'PUDUKKOTTAI' 'PULWAMA'\n",
      " 'PUNCH' 'PURBA BARDHAMAN' 'PURBA MEDINIPUR' 'PURI' 'PURNIA' 'PURULIA'\n",
      " 'RAE BARELI' 'RAICHUR' 'RAIGARH' 'RAILWAY QUARANTINE' 'RAIPUR' 'RAISEN'\n",
      " 'RAJANNA SIRCILLA' 'RAJGARH' 'RAJKOT' 'RAJNANDGAON' 'RAJOURI' 'RAJSAMAND'\n",
      " 'RAMANAGARA' 'RAMANATHAPURAM' 'RAMBAN' 'RAMGARH' 'RAMPUR' 'RANCHI'\n",
      " 'RANGA REDDY' 'RANIPET' 'RATLAM' 'RATNAGIRI' 'RAYAGADA' 'REASI' 'REWA'\n",
      " 'REWARI' 'RIBHOI' 'ROHTAK' 'ROHTAS' 'RUDRAPRAYAG' 'RUPNAGAR'\n",
      " 'S.A.S. NAGAR' 'SABARKANTHA' 'SAGAR' 'SAHARANPUR' 'SAHARSA' 'SAHIBGANJ'\n",
      " 'SAIHA' 'SAITUAL' 'SALEM' 'SAMASTIPUR' 'SAMBA' 'SAMBALPUR' 'SAMBHAL'\n",
      " 'SANGAREDDY' 'SANGRUR' 'SANT KABIR NAGAR' 'SARAIKELA-KHARSAWAN' 'SARAN'\n",
      " 'SATNA' 'SAWAI MADHOPUR' 'SEHORE' 'SENAPATI' 'SEONI' 'SERCHHIP' 'SHAHDOL'\n",
      " 'SHAHID BHAGAT SINGH NAGAR' 'SHAHJAHANPUR' 'SHAJAPUR' 'SHAMLI'\n",
      " 'SHEIKHPURA' 'SHEOHAR' 'SHEOPUR' 'SHI YOMI' 'SHIMLA' 'SHIVAMOGGA'\n",
      " 'SHIVPURI' 'SHOPIYAN' 'SHRAWASTI' 'SIANG' 'SIDDHARTHNAGAR' 'SIDDIPET'\n",
      " 'SIDHI' 'SIKAR' 'SIMDEGA' 'SINDHUDURG' 'SINGRAULI' 'SIPAHIJALA' 'SIRMAUR'\n",
      " 'SIROHI' 'SIRSA' 'SITAMARHI' 'SITAPUR' 'SIVAGANGA' 'SIVASAGAR' 'SIWAN'\n",
      " 'SOLAN' 'SONBHADRA' 'SONIPAT' 'SONITPUR' 'SOUTH 24 PARGANAS'\n",
      " 'SOUTH ANDAMAN' 'SOUTH DELHI' 'SOUTH GARO HILLS' 'SOUTH GOA'\n",
      " 'SOUTH SALMARA MANKACHAR' 'SOUTH SIKKIM' 'SOUTH TRIPURA'\n",
      " 'SOUTH WEST DELHI' 'SOUTH WEST GARO HILLS' 'SOUTH WEST KHASI HILLS'\n",
      " 'SRI MUKTSAR SAHIB' 'SRINAGAR' 'SUBARNAPUR' 'SUKMA' 'SULTANPUR'\n",
      " 'SUNDARGARH' 'SUPAUL' 'SURAJPUR' 'SURENDRANAGAR' 'SURGUJA' 'SURYAPET'\n",
      " 'TAMENGLONG' 'TAPI' 'TARN TARAN' 'TAWANG' 'TEHRI GARHWAL' 'TENGNOUPAL'\n",
      " 'TENKASI' 'THANJAVUR' 'THENI' 'THIRUVANANTHAPURAM' 'THIRUVARUR'\n",
      " 'THOOTHUKKUDI' 'THOUBAL' 'THRISSUR' 'TIKAMGARH' 'TINSUKIA' 'TIRAP'\n",
      " 'TIRUCHIRAPPALLI' 'TIRUNELVELI' 'TIRUPATHUR' 'TIRUPPUR' 'TIRUVANNAMALAI'\n",
      " 'TONK' 'TUENSANG' 'TUMAKURU' 'UDAIPUR' 'UDALGURI' 'UDHAM SINGH NAGAR'\n",
      " 'UDHAMPUR' 'UDUPI' 'UJJAIN' 'UKHRUL' 'UMARIA' 'UNA' 'UNASSIGNED'\n",
      " 'UNKNOWN' 'UNNAO' 'UNOKOTI' 'UPPER DIBANG VALLEY' 'UPPER SIANG'\n",
      " 'UPPER SUBANSIRI' 'UTTAR BASTAR KANKER' 'UTTAR DINAJPUR' 'UTTARA KANNADA'\n",
      " 'UTTARKASHI' 'VADODARA' 'VAISHALI' 'VALSAD' 'VARANASI' 'VELLORE'\n",
      " 'VIDISHA' 'VIJAYAPURA' 'VIKARABAD' 'VILUPPURAM' 'VIRUDHUNAGAR'\n",
      " 'WANAPARTHY' 'WARANGAL RURAL' 'WARANGAL URBAN' 'WARDHA' 'WASHIM'\n",
      " 'WAYANAD' 'WEST CHAMPARAN' 'WEST DELHI' 'WEST GARO HILLS'\n",
      " 'WEST JAINTIA HILLS' 'WEST KAMENG' 'WEST KARBI ANGLONG'\n",
      " 'WEST KHASI HILLS' 'WEST SIANG' 'WEST SIKKIM' 'WEST SINGHBHUM'\n",
      " 'WEST TRIPURA' 'WOKHA' 'YADADRI BHUVANAGIRI' 'YADGIR' 'YAMUNANAGAR'\n",
      " 'YANAM' 'YAVATMAL' 'ZUNHEBOTO']\n"
     ]
    }
   ],
   "source": [
    "print(final_df[final_df['clusters']==0].index.values)\n"
   ]
  },
  {
   "cell_type": "code",
   "execution_count": 61,
   "metadata": {},
   "outputs": [
    {
     "name": "stdout",
     "output_type": "stream",
     "text": [
      "['AHMEDABAD' 'AHMEDNAGAR' 'ANANTAPUR' 'AURANGABAD' 'BALLARI'\n",
      " 'CHENGALPATTU' 'CHITTOOR' 'COIMBATORE' 'DAKSHINA KANNADA' 'EAST GODAVARI'\n",
      " 'GANJAM' 'GUNTUR' 'HOWRAH' 'HYDERABAD' 'INDORE' 'JALGAON'\n",
      " 'KAMRUP METROPOLITAN' 'KANCHEEPURAM' 'KANPUR NAGAR' 'KOLHAPUR' 'KOLKATA'\n",
      " 'KRISHNA' 'KURNOOL' 'LUCKNOW' 'LUDHIANA' 'MADURAI' 'MYSURU' 'NAGPUR'\n",
      " 'NASHIK' 'NORTH 24 PARGANAS' 'PALGHAR' 'PATNA' 'PRAKASAM' 'RAIGAD'\n",
      " 'S.P.S. NELLORE' 'SANGLI' 'SATARA' 'SOLAPUR' 'SRIKAKULAM' 'SURAT'\n",
      " 'THIRUVALLUR' 'VISAKHAPATNAM' 'VIZIANAGARAM' 'WEST GODAVARI'\n",
      " 'Y.S.R. KADAPA']\n"
     ]
    }
   ],
   "source": [
    "print(final_df[final_df['clusters']==3].index.values)"
   ]
  },
  {
   "cell_type": "code",
   "execution_count": null,
   "metadata": {},
   "outputs": [],
   "source": []
  }
 ],
 "metadata": {
  "kernelspec": {
   "display_name": "Python 3",
   "language": "python",
   "name": "python3"
  },
  "language_info": {
   "codemirror_mode": {
    "name": "ipython",
    "version": 3
   },
   "file_extension": ".py",
   "mimetype": "text/x-python",
   "name": "python",
   "nbconvert_exporter": "python",
   "pygments_lexer": "ipython3",
   "version": "3.7.4"
  }
 },
 "nbformat": 4,
 "nbformat_minor": 2
}
